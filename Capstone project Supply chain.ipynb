{
 "cells": [
  {
   "cell_type": "code",
   "execution_count": 1,
   "id": "d8b96760",
   "metadata": {},
   "outputs": [],
   "source": [
    "import pandas as pd\n",
    "import numpy as np\n",
    "from numpy import math\n",
    "import seaborn as sns\n",
    "import matplotlib.pyplot as plt   \n",
    "import matplotlib.style\n",
    "sns.set(color_codes=True) # adds a nice background to the graphs\n",
    "%matplotlib inline"
   ]
  },
  {
   "cell_type": "code",
   "execution_count": 2,
   "id": "c7711cbe",
   "metadata": {},
   "outputs": [],
   "source": [
    "df = pd.read_csv('Data.csv')"
   ]
  },
  {
   "cell_type": "code",
   "execution_count": 3,
   "id": "c5457300",
   "metadata": {
    "scrolled": true
   },
   "outputs": [
    {
     "data": {
      "text/html": [
       "<div>\n",
       "<style scoped>\n",
       "    .dataframe tbody tr th:only-of-type {\n",
       "        vertical-align: middle;\n",
       "    }\n",
       "\n",
       "    .dataframe tbody tr th {\n",
       "        vertical-align: top;\n",
       "    }\n",
       "\n",
       "    .dataframe thead th {\n",
       "        text-align: right;\n",
       "    }\n",
       "</style>\n",
       "<table border=\"1\" class=\"dataframe\">\n",
       "  <thead>\n",
       "    <tr style=\"text-align: right;\">\n",
       "      <th></th>\n",
       "      <th>Ware_house_ID</th>\n",
       "      <th>WH_Manager_ID</th>\n",
       "      <th>Location_type</th>\n",
       "      <th>WH_capacity_size</th>\n",
       "      <th>zone</th>\n",
       "      <th>WH_regional_zone</th>\n",
       "      <th>num_refill_req_l3m</th>\n",
       "      <th>transport_issue_l1y</th>\n",
       "      <th>Competitor_in_mkt</th>\n",
       "      <th>retail_shop_num</th>\n",
       "      <th>...</th>\n",
       "      <th>electric_supply</th>\n",
       "      <th>dist_from_hub</th>\n",
       "      <th>workers_num</th>\n",
       "      <th>wh_est_year</th>\n",
       "      <th>storage_issue_reported_l3m</th>\n",
       "      <th>temp_reg_mach</th>\n",
       "      <th>approved_wh_govt_certificate</th>\n",
       "      <th>wh_breakdown_l3m</th>\n",
       "      <th>govt_check_l3m</th>\n",
       "      <th>product_wg_ton</th>\n",
       "    </tr>\n",
       "  </thead>\n",
       "  <tbody>\n",
       "    <tr>\n",
       "      <th>0</th>\n",
       "      <td>WH_100000</td>\n",
       "      <td>EID_50000</td>\n",
       "      <td>Urban</td>\n",
       "      <td>Small</td>\n",
       "      <td>West</td>\n",
       "      <td>Zone 6</td>\n",
       "      <td>3</td>\n",
       "      <td>1</td>\n",
       "      <td>2</td>\n",
       "      <td>4651</td>\n",
       "      <td>...</td>\n",
       "      <td>1</td>\n",
       "      <td>91</td>\n",
       "      <td>29.0</td>\n",
       "      <td>NaN</td>\n",
       "      <td>13</td>\n",
       "      <td>0</td>\n",
       "      <td>A</td>\n",
       "      <td>5</td>\n",
       "      <td>15</td>\n",
       "      <td>17115</td>\n",
       "    </tr>\n",
       "    <tr>\n",
       "      <th>1</th>\n",
       "      <td>WH_100001</td>\n",
       "      <td>EID_50001</td>\n",
       "      <td>Rural</td>\n",
       "      <td>Large</td>\n",
       "      <td>North</td>\n",
       "      <td>Zone 5</td>\n",
       "      <td>0</td>\n",
       "      <td>0</td>\n",
       "      <td>4</td>\n",
       "      <td>6217</td>\n",
       "      <td>...</td>\n",
       "      <td>1</td>\n",
       "      <td>210</td>\n",
       "      <td>31.0</td>\n",
       "      <td>NaN</td>\n",
       "      <td>4</td>\n",
       "      <td>0</td>\n",
       "      <td>A</td>\n",
       "      <td>3</td>\n",
       "      <td>17</td>\n",
       "      <td>5074</td>\n",
       "    </tr>\n",
       "    <tr>\n",
       "      <th>2</th>\n",
       "      <td>WH_100002</td>\n",
       "      <td>EID_50002</td>\n",
       "      <td>Rural</td>\n",
       "      <td>Mid</td>\n",
       "      <td>South</td>\n",
       "      <td>Zone 2</td>\n",
       "      <td>1</td>\n",
       "      <td>0</td>\n",
       "      <td>4</td>\n",
       "      <td>4306</td>\n",
       "      <td>...</td>\n",
       "      <td>0</td>\n",
       "      <td>161</td>\n",
       "      <td>37.0</td>\n",
       "      <td>NaN</td>\n",
       "      <td>17</td>\n",
       "      <td>0</td>\n",
       "      <td>A</td>\n",
       "      <td>6</td>\n",
       "      <td>22</td>\n",
       "      <td>23137</td>\n",
       "    </tr>\n",
       "    <tr>\n",
       "      <th>3</th>\n",
       "      <td>WH_100003</td>\n",
       "      <td>EID_50003</td>\n",
       "      <td>Rural</td>\n",
       "      <td>Mid</td>\n",
       "      <td>North</td>\n",
       "      <td>Zone 3</td>\n",
       "      <td>7</td>\n",
       "      <td>4</td>\n",
       "      <td>2</td>\n",
       "      <td>6000</td>\n",
       "      <td>...</td>\n",
       "      <td>0</td>\n",
       "      <td>103</td>\n",
       "      <td>21.0</td>\n",
       "      <td>NaN</td>\n",
       "      <td>17</td>\n",
       "      <td>1</td>\n",
       "      <td>A+</td>\n",
       "      <td>3</td>\n",
       "      <td>27</td>\n",
       "      <td>22115</td>\n",
       "    </tr>\n",
       "    <tr>\n",
       "      <th>4</th>\n",
       "      <td>WH_100004</td>\n",
       "      <td>EID_50004</td>\n",
       "      <td>Rural</td>\n",
       "      <td>Large</td>\n",
       "      <td>North</td>\n",
       "      <td>Zone 5</td>\n",
       "      <td>3</td>\n",
       "      <td>1</td>\n",
       "      <td>2</td>\n",
       "      <td>4740</td>\n",
       "      <td>...</td>\n",
       "      <td>1</td>\n",
       "      <td>112</td>\n",
       "      <td>25.0</td>\n",
       "      <td>2009.0</td>\n",
       "      <td>18</td>\n",
       "      <td>0</td>\n",
       "      <td>C</td>\n",
       "      <td>6</td>\n",
       "      <td>24</td>\n",
       "      <td>24071</td>\n",
       "    </tr>\n",
       "  </tbody>\n",
       "</table>\n",
       "<p>5 rows × 24 columns</p>\n",
       "</div>"
      ],
      "text/plain": [
       "  Ware_house_ID WH_Manager_ID Location_type WH_capacity_size   zone  \\\n",
       "0     WH_100000     EID_50000         Urban            Small   West   \n",
       "1     WH_100001     EID_50001         Rural            Large  North   \n",
       "2     WH_100002     EID_50002         Rural              Mid  South   \n",
       "3     WH_100003     EID_50003         Rural              Mid  North   \n",
       "4     WH_100004     EID_50004         Rural            Large  North   \n",
       "\n",
       "  WH_regional_zone  num_refill_req_l3m  transport_issue_l1y  \\\n",
       "0           Zone 6                   3                    1   \n",
       "1           Zone 5                   0                    0   \n",
       "2           Zone 2                   1                    0   \n",
       "3           Zone 3                   7                    4   \n",
       "4           Zone 5                   3                    1   \n",
       "\n",
       "   Competitor_in_mkt  retail_shop_num  ... electric_supply  dist_from_hub  \\\n",
       "0                  2             4651  ...               1             91   \n",
       "1                  4             6217  ...               1            210   \n",
       "2                  4             4306  ...               0            161   \n",
       "3                  2             6000  ...               0            103   \n",
       "4                  2             4740  ...               1            112   \n",
       "\n",
       "   workers_num  wh_est_year  storage_issue_reported_l3m  temp_reg_mach  \\\n",
       "0         29.0          NaN                          13              0   \n",
       "1         31.0          NaN                           4              0   \n",
       "2         37.0          NaN                          17              0   \n",
       "3         21.0          NaN                          17              1   \n",
       "4         25.0       2009.0                          18              0   \n",
       "\n",
       "   approved_wh_govt_certificate  wh_breakdown_l3m  govt_check_l3m  \\\n",
       "0                             A                 5              15   \n",
       "1                             A                 3              17   \n",
       "2                             A                 6              22   \n",
       "3                            A+                 3              27   \n",
       "4                             C                 6              24   \n",
       "\n",
       "   product_wg_ton  \n",
       "0           17115  \n",
       "1            5074  \n",
       "2           23137  \n",
       "3           22115  \n",
       "4           24071  \n",
       "\n",
       "[5 rows x 24 columns]"
      ]
     },
     "execution_count": 3,
     "metadata": {},
     "output_type": "execute_result"
    }
   ],
   "source": [
    "df.head()"
   ]
  },
  {
   "cell_type": "code",
   "execution_count": 4,
   "id": "a5907ab7",
   "metadata": {},
   "outputs": [
    {
     "data": {
      "text/html": [
       "<div>\n",
       "<style scoped>\n",
       "    .dataframe tbody tr th:only-of-type {\n",
       "        vertical-align: middle;\n",
       "    }\n",
       "\n",
       "    .dataframe tbody tr th {\n",
       "        vertical-align: top;\n",
       "    }\n",
       "\n",
       "    .dataframe thead th {\n",
       "        text-align: right;\n",
       "    }\n",
       "</style>\n",
       "<table border=\"1\" class=\"dataframe\">\n",
       "  <thead>\n",
       "    <tr style=\"text-align: right;\">\n",
       "      <th></th>\n",
       "      <th>Ware_house_ID</th>\n",
       "      <th>WH_Manager_ID</th>\n",
       "      <th>Location_type</th>\n",
       "      <th>WH_capacity_size</th>\n",
       "      <th>zone</th>\n",
       "      <th>WH_regional_zone</th>\n",
       "      <th>num_refill_req_l3m</th>\n",
       "      <th>transport_issue_l1y</th>\n",
       "      <th>Competitor_in_mkt</th>\n",
       "      <th>retail_shop_num</th>\n",
       "      <th>wh_owner_type</th>\n",
       "      <th>distributor_num</th>\n",
       "      <th>flood_impacted</th>\n",
       "      <th>flood_proof</th>\n",
       "      <th>electric_supply</th>\n",
       "      <th>dist_from_hub</th>\n",
       "      <th>workers_num</th>\n",
       "      <th>wh_est_year</th>\n",
       "      <th>storage_issue_reported_l3m</th>\n",
       "      <th>temp_reg_mach</th>\n",
       "      <th>approved_wh_govt_certificate</th>\n",
       "      <th>wh_breakdown_l3m</th>\n",
       "      <th>govt_check_l3m</th>\n",
       "      <th>product_wg_ton</th>\n",
       "    </tr>\n",
       "  </thead>\n",
       "  <tbody>\n",
       "    <tr>\n",
       "      <th>0</th>\n",
       "      <td>WH_100000</td>\n",
       "      <td>EID_50000</td>\n",
       "      <td>Urban</td>\n",
       "      <td>Small</td>\n",
       "      <td>West</td>\n",
       "      <td>Zone 6</td>\n",
       "      <td>3</td>\n",
       "      <td>1</td>\n",
       "      <td>2</td>\n",
       "      <td>4651</td>\n",
       "      <td>Rented</td>\n",
       "      <td>24</td>\n",
       "      <td>0</td>\n",
       "      <td>1</td>\n",
       "      <td>1</td>\n",
       "      <td>91</td>\n",
       "      <td>29.0</td>\n",
       "      <td>NaN</td>\n",
       "      <td>13</td>\n",
       "      <td>0</td>\n",
       "      <td>A</td>\n",
       "      <td>5</td>\n",
       "      <td>15</td>\n",
       "      <td>17115</td>\n",
       "    </tr>\n",
       "    <tr>\n",
       "      <th>1</th>\n",
       "      <td>WH_100001</td>\n",
       "      <td>EID_50001</td>\n",
       "      <td>Rural</td>\n",
       "      <td>Large</td>\n",
       "      <td>North</td>\n",
       "      <td>Zone 5</td>\n",
       "      <td>0</td>\n",
       "      <td>0</td>\n",
       "      <td>4</td>\n",
       "      <td>6217</td>\n",
       "      <td>Company Owned</td>\n",
       "      <td>47</td>\n",
       "      <td>0</td>\n",
       "      <td>0</td>\n",
       "      <td>1</td>\n",
       "      <td>210</td>\n",
       "      <td>31.0</td>\n",
       "      <td>NaN</td>\n",
       "      <td>4</td>\n",
       "      <td>0</td>\n",
       "      <td>A</td>\n",
       "      <td>3</td>\n",
       "      <td>17</td>\n",
       "      <td>5074</td>\n",
       "    </tr>\n",
       "    <tr>\n",
       "      <th>2</th>\n",
       "      <td>WH_100002</td>\n",
       "      <td>EID_50002</td>\n",
       "      <td>Rural</td>\n",
       "      <td>Mid</td>\n",
       "      <td>South</td>\n",
       "      <td>Zone 2</td>\n",
       "      <td>1</td>\n",
       "      <td>0</td>\n",
       "      <td>4</td>\n",
       "      <td>4306</td>\n",
       "      <td>Company Owned</td>\n",
       "      <td>64</td>\n",
       "      <td>0</td>\n",
       "      <td>0</td>\n",
       "      <td>0</td>\n",
       "      <td>161</td>\n",
       "      <td>37.0</td>\n",
       "      <td>NaN</td>\n",
       "      <td>17</td>\n",
       "      <td>0</td>\n",
       "      <td>A</td>\n",
       "      <td>6</td>\n",
       "      <td>22</td>\n",
       "      <td>23137</td>\n",
       "    </tr>\n",
       "    <tr>\n",
       "      <th>3</th>\n",
       "      <td>WH_100003</td>\n",
       "      <td>EID_50003</td>\n",
       "      <td>Rural</td>\n",
       "      <td>Mid</td>\n",
       "      <td>North</td>\n",
       "      <td>Zone 3</td>\n",
       "      <td>7</td>\n",
       "      <td>4</td>\n",
       "      <td>2</td>\n",
       "      <td>6000</td>\n",
       "      <td>Rented</td>\n",
       "      <td>50</td>\n",
       "      <td>0</td>\n",
       "      <td>0</td>\n",
       "      <td>0</td>\n",
       "      <td>103</td>\n",
       "      <td>21.0</td>\n",
       "      <td>NaN</td>\n",
       "      <td>17</td>\n",
       "      <td>1</td>\n",
       "      <td>A+</td>\n",
       "      <td>3</td>\n",
       "      <td>27</td>\n",
       "      <td>22115</td>\n",
       "    </tr>\n",
       "    <tr>\n",
       "      <th>4</th>\n",
       "      <td>WH_100004</td>\n",
       "      <td>EID_50004</td>\n",
       "      <td>Rural</td>\n",
       "      <td>Large</td>\n",
       "      <td>North</td>\n",
       "      <td>Zone 5</td>\n",
       "      <td>3</td>\n",
       "      <td>1</td>\n",
       "      <td>2</td>\n",
       "      <td>4740</td>\n",
       "      <td>Company Owned</td>\n",
       "      <td>42</td>\n",
       "      <td>1</td>\n",
       "      <td>0</td>\n",
       "      <td>1</td>\n",
       "      <td>112</td>\n",
       "      <td>25.0</td>\n",
       "      <td>2009.0</td>\n",
       "      <td>18</td>\n",
       "      <td>0</td>\n",
       "      <td>C</td>\n",
       "      <td>6</td>\n",
       "      <td>24</td>\n",
       "      <td>24071</td>\n",
       "    </tr>\n",
       "    <tr>\n",
       "      <th>...</th>\n",
       "      <td>...</td>\n",
       "      <td>...</td>\n",
       "      <td>...</td>\n",
       "      <td>...</td>\n",
       "      <td>...</td>\n",
       "      <td>...</td>\n",
       "      <td>...</td>\n",
       "      <td>...</td>\n",
       "      <td>...</td>\n",
       "      <td>...</td>\n",
       "      <td>...</td>\n",
       "      <td>...</td>\n",
       "      <td>...</td>\n",
       "      <td>...</td>\n",
       "      <td>...</td>\n",
       "      <td>...</td>\n",
       "      <td>...</td>\n",
       "      <td>...</td>\n",
       "      <td>...</td>\n",
       "      <td>...</td>\n",
       "      <td>...</td>\n",
       "      <td>...</td>\n",
       "      <td>...</td>\n",
       "      <td>...</td>\n",
       "    </tr>\n",
       "    <tr>\n",
       "      <th>24995</th>\n",
       "      <td>WH_124995</td>\n",
       "      <td>EID_74995</td>\n",
       "      <td>Rural</td>\n",
       "      <td>Small</td>\n",
       "      <td>North</td>\n",
       "      <td>Zone 1</td>\n",
       "      <td>3</td>\n",
       "      <td>0</td>\n",
       "      <td>4</td>\n",
       "      <td>5390</td>\n",
       "      <td>Rented</td>\n",
       "      <td>19</td>\n",
       "      <td>0</td>\n",
       "      <td>0</td>\n",
       "      <td>1</td>\n",
       "      <td>142</td>\n",
       "      <td>34.0</td>\n",
       "      <td>2005.0</td>\n",
       "      <td>22</td>\n",
       "      <td>1</td>\n",
       "      <td>A</td>\n",
       "      <td>2</td>\n",
       "      <td>30</td>\n",
       "      <td>32093</td>\n",
       "    </tr>\n",
       "    <tr>\n",
       "      <th>24996</th>\n",
       "      <td>WH_124996</td>\n",
       "      <td>EID_74996</td>\n",
       "      <td>Rural</td>\n",
       "      <td>Mid</td>\n",
       "      <td>West</td>\n",
       "      <td>Zone 2</td>\n",
       "      <td>6</td>\n",
       "      <td>0</td>\n",
       "      <td>4</td>\n",
       "      <td>4490</td>\n",
       "      <td>Company Owned</td>\n",
       "      <td>57</td>\n",
       "      <td>0</td>\n",
       "      <td>0</td>\n",
       "      <td>1</td>\n",
       "      <td>130</td>\n",
       "      <td>28.0</td>\n",
       "      <td>2012.0</td>\n",
       "      <td>10</td>\n",
       "      <td>0</td>\n",
       "      <td>B</td>\n",
       "      <td>4</td>\n",
       "      <td>18</td>\n",
       "      <td>12114</td>\n",
       "    </tr>\n",
       "    <tr>\n",
       "      <th>24997</th>\n",
       "      <td>WH_124997</td>\n",
       "      <td>EID_74997</td>\n",
       "      <td>Urban</td>\n",
       "      <td>Large</td>\n",
       "      <td>South</td>\n",
       "      <td>Zone 5</td>\n",
       "      <td>7</td>\n",
       "      <td>0</td>\n",
       "      <td>2</td>\n",
       "      <td>5403</td>\n",
       "      <td>Rented</td>\n",
       "      <td>31</td>\n",
       "      <td>1</td>\n",
       "      <td>0</td>\n",
       "      <td>1</td>\n",
       "      <td>147</td>\n",
       "      <td>NaN</td>\n",
       "      <td>NaN</td>\n",
       "      <td>23</td>\n",
       "      <td>0</td>\n",
       "      <td>B+</td>\n",
       "      <td>5</td>\n",
       "      <td>25</td>\n",
       "      <td>27080</td>\n",
       "    </tr>\n",
       "    <tr>\n",
       "      <th>24998</th>\n",
       "      <td>WH_124998</td>\n",
       "      <td>EID_74998</td>\n",
       "      <td>Rural</td>\n",
       "      <td>Small</td>\n",
       "      <td>North</td>\n",
       "      <td>Zone 1</td>\n",
       "      <td>1</td>\n",
       "      <td>0</td>\n",
       "      <td>2</td>\n",
       "      <td>10562</td>\n",
       "      <td>Rented</td>\n",
       "      <td>25</td>\n",
       "      <td>0</td>\n",
       "      <td>0</td>\n",
       "      <td>1</td>\n",
       "      <td>60</td>\n",
       "      <td>25.0</td>\n",
       "      <td>NaN</td>\n",
       "      <td>18</td>\n",
       "      <td>0</td>\n",
       "      <td>A</td>\n",
       "      <td>6</td>\n",
       "      <td>30</td>\n",
       "      <td>25093</td>\n",
       "    </tr>\n",
       "    <tr>\n",
       "      <th>24999</th>\n",
       "      <td>WH_124999</td>\n",
       "      <td>EID_74999</td>\n",
       "      <td>Rural</td>\n",
       "      <td>Mid</td>\n",
       "      <td>West</td>\n",
       "      <td>Zone 4</td>\n",
       "      <td>8</td>\n",
       "      <td>2</td>\n",
       "      <td>4</td>\n",
       "      <td>5664</td>\n",
       "      <td>Company Owned</td>\n",
       "      <td>21</td>\n",
       "      <td>0</td>\n",
       "      <td>1</td>\n",
       "      <td>1</td>\n",
       "      <td>239</td>\n",
       "      <td>39.0</td>\n",
       "      <td>2019.0</td>\n",
       "      <td>4</td>\n",
       "      <td>0</td>\n",
       "      <td>B+</td>\n",
       "      <td>2</td>\n",
       "      <td>11</td>\n",
       "      <td>5058</td>\n",
       "    </tr>\n",
       "  </tbody>\n",
       "</table>\n",
       "<p>25000 rows × 24 columns</p>\n",
       "</div>"
      ],
      "text/plain": [
       "      Ware_house_ID WH_Manager_ID Location_type WH_capacity_size   zone  \\\n",
       "0         WH_100000     EID_50000         Urban            Small   West   \n",
       "1         WH_100001     EID_50001         Rural            Large  North   \n",
       "2         WH_100002     EID_50002         Rural              Mid  South   \n",
       "3         WH_100003     EID_50003         Rural              Mid  North   \n",
       "4         WH_100004     EID_50004         Rural            Large  North   \n",
       "...             ...           ...           ...              ...    ...   \n",
       "24995     WH_124995     EID_74995         Rural            Small  North   \n",
       "24996     WH_124996     EID_74996         Rural              Mid   West   \n",
       "24997     WH_124997     EID_74997         Urban            Large  South   \n",
       "24998     WH_124998     EID_74998         Rural            Small  North   \n",
       "24999     WH_124999     EID_74999         Rural              Mid   West   \n",
       "\n",
       "      WH_regional_zone  num_refill_req_l3m  transport_issue_l1y  \\\n",
       "0               Zone 6                   3                    1   \n",
       "1               Zone 5                   0                    0   \n",
       "2               Zone 2                   1                    0   \n",
       "3               Zone 3                   7                    4   \n",
       "4               Zone 5                   3                    1   \n",
       "...                ...                 ...                  ...   \n",
       "24995           Zone 1                   3                    0   \n",
       "24996           Zone 2                   6                    0   \n",
       "24997           Zone 5                   7                    0   \n",
       "24998           Zone 1                   1                    0   \n",
       "24999           Zone 4                   8                    2   \n",
       "\n",
       "       Competitor_in_mkt  retail_shop_num  wh_owner_type  distributor_num  \\\n",
       "0                      2             4651         Rented               24   \n",
       "1                      4             6217  Company Owned               47   \n",
       "2                      4             4306  Company Owned               64   \n",
       "3                      2             6000         Rented               50   \n",
       "4                      2             4740  Company Owned               42   \n",
       "...                  ...              ...            ...              ...   \n",
       "24995                  4             5390         Rented               19   \n",
       "24996                  4             4490  Company Owned               57   \n",
       "24997                  2             5403         Rented               31   \n",
       "24998                  2            10562         Rented               25   \n",
       "24999                  4             5664  Company Owned               21   \n",
       "\n",
       "       flood_impacted  flood_proof  electric_supply  dist_from_hub  \\\n",
       "0                   0            1                1             91   \n",
       "1                   0            0                1            210   \n",
       "2                   0            0                0            161   \n",
       "3                   0            0                0            103   \n",
       "4                   1            0                1            112   \n",
       "...               ...          ...              ...            ...   \n",
       "24995               0            0                1            142   \n",
       "24996               0            0                1            130   \n",
       "24997               1            0                1            147   \n",
       "24998               0            0                1             60   \n",
       "24999               0            1                1            239   \n",
       "\n",
       "       workers_num  wh_est_year  storage_issue_reported_l3m  temp_reg_mach  \\\n",
       "0             29.0          NaN                          13              0   \n",
       "1             31.0          NaN                           4              0   \n",
       "2             37.0          NaN                          17              0   \n",
       "3             21.0          NaN                          17              1   \n",
       "4             25.0       2009.0                          18              0   \n",
       "...            ...          ...                         ...            ...   \n",
       "24995         34.0       2005.0                          22              1   \n",
       "24996         28.0       2012.0                          10              0   \n",
       "24997          NaN          NaN                          23              0   \n",
       "24998         25.0          NaN                          18              0   \n",
       "24999         39.0       2019.0                           4              0   \n",
       "\n",
       "      approved_wh_govt_certificate  wh_breakdown_l3m  govt_check_l3m  \\\n",
       "0                                A                 5              15   \n",
       "1                                A                 3              17   \n",
       "2                                A                 6              22   \n",
       "3                               A+                 3              27   \n",
       "4                                C                 6              24   \n",
       "...                            ...               ...             ...   \n",
       "24995                            A                 2              30   \n",
       "24996                            B                 4              18   \n",
       "24997                           B+                 5              25   \n",
       "24998                            A                 6              30   \n",
       "24999                           B+                 2              11   \n",
       "\n",
       "       product_wg_ton  \n",
       "0               17115  \n",
       "1                5074  \n",
       "2               23137  \n",
       "3               22115  \n",
       "4               24071  \n",
       "...               ...  \n",
       "24995           32093  \n",
       "24996           12114  \n",
       "24997           27080  \n",
       "24998           25093  \n",
       "24999            5058  \n",
       "\n",
       "[25000 rows x 24 columns]"
      ]
     },
     "execution_count": 4,
     "metadata": {},
     "output_type": "execute_result"
    }
   ],
   "source": [
    "pd.set_option('display.max_columns', None)\n",
    "df"
   ]
  },
  {
   "cell_type": "code",
   "execution_count": 5,
   "id": "ee6a9da2",
   "metadata": {},
   "outputs": [],
   "source": [
    "df.drop(['Ware_house_ID', 'WH_Manager_ID'], axis=1, inplace=True)"
   ]
  },
  {
   "cell_type": "code",
   "execution_count": 6,
   "id": "37981804",
   "metadata": {},
   "outputs": [
    {
     "name": "stdout",
     "output_type": "stream",
     "text": [
      "<class 'pandas.core.frame.DataFrame'>\n",
      "RangeIndex: 25000 entries, 0 to 24999\n",
      "Data columns (total 22 columns):\n",
      " #   Column                        Non-Null Count  Dtype  \n",
      "---  ------                        --------------  -----  \n",
      " 0   Location_type                 25000 non-null  object \n",
      " 1   WH_capacity_size              25000 non-null  object \n",
      " 2   zone                          25000 non-null  object \n",
      " 3   WH_regional_zone              25000 non-null  object \n",
      " 4   num_refill_req_l3m            25000 non-null  int64  \n",
      " 5   transport_issue_l1y           25000 non-null  int64  \n",
      " 6   Competitor_in_mkt             25000 non-null  int64  \n",
      " 7   retail_shop_num               25000 non-null  int64  \n",
      " 8   wh_owner_type                 25000 non-null  object \n",
      " 9   distributor_num               25000 non-null  int64  \n",
      " 10  flood_impacted                25000 non-null  int64  \n",
      " 11  flood_proof                   25000 non-null  int64  \n",
      " 12  electric_supply               25000 non-null  int64  \n",
      " 13  dist_from_hub                 25000 non-null  int64  \n",
      " 14  workers_num                   24010 non-null  float64\n",
      " 15  wh_est_year                   13119 non-null  float64\n",
      " 16  storage_issue_reported_l3m    25000 non-null  int64  \n",
      " 17  temp_reg_mach                 25000 non-null  int64  \n",
      " 18  approved_wh_govt_certificate  24092 non-null  object \n",
      " 19  wh_breakdown_l3m              25000 non-null  int64  \n",
      " 20  govt_check_l3m                25000 non-null  int64  \n",
      " 21  product_wg_ton                25000 non-null  int64  \n",
      "dtypes: float64(2), int64(14), object(6)\n",
      "memory usage: 4.2+ MB\n"
     ]
    }
   ],
   "source": [
    "df.info()"
   ]
  },
  {
   "cell_type": "code",
   "execution_count": 7,
   "id": "b28d8f99",
   "metadata": {
    "scrolled": true
   },
   "outputs": [
    {
     "data": {
      "text/html": [
       "<div>\n",
       "<style scoped>\n",
       "    .dataframe tbody tr th:only-of-type {\n",
       "        vertical-align: middle;\n",
       "    }\n",
       "\n",
       "    .dataframe tbody tr th {\n",
       "        vertical-align: top;\n",
       "    }\n",
       "\n",
       "    .dataframe thead th {\n",
       "        text-align: right;\n",
       "    }\n",
       "</style>\n",
       "<table border=\"1\" class=\"dataframe\">\n",
       "  <thead>\n",
       "    <tr style=\"text-align: right;\">\n",
       "      <th></th>\n",
       "      <th>Location_type</th>\n",
       "      <th>WH_capacity_size</th>\n",
       "      <th>zone</th>\n",
       "      <th>WH_regional_zone</th>\n",
       "      <th>num_refill_req_l3m</th>\n",
       "      <th>transport_issue_l1y</th>\n",
       "      <th>Competitor_in_mkt</th>\n",
       "      <th>retail_shop_num</th>\n",
       "      <th>wh_owner_type</th>\n",
       "      <th>distributor_num</th>\n",
       "      <th>flood_impacted</th>\n",
       "      <th>flood_proof</th>\n",
       "      <th>electric_supply</th>\n",
       "      <th>dist_from_hub</th>\n",
       "      <th>workers_num</th>\n",
       "      <th>wh_est_year</th>\n",
       "      <th>storage_issue_reported_l3m</th>\n",
       "      <th>temp_reg_mach</th>\n",
       "      <th>approved_wh_govt_certificate</th>\n",
       "      <th>wh_breakdown_l3m</th>\n",
       "      <th>govt_check_l3m</th>\n",
       "      <th>product_wg_ton</th>\n",
       "    </tr>\n",
       "  </thead>\n",
       "  <tbody>\n",
       "    <tr>\n",
       "      <th>count</th>\n",
       "      <td>25000</td>\n",
       "      <td>25000</td>\n",
       "      <td>25000</td>\n",
       "      <td>25000</td>\n",
       "      <td>25000.000000</td>\n",
       "      <td>25000.000000</td>\n",
       "      <td>25000.000000</td>\n",
       "      <td>25000.000000</td>\n",
       "      <td>25000</td>\n",
       "      <td>25000.000000</td>\n",
       "      <td>25000.000000</td>\n",
       "      <td>25000.000000</td>\n",
       "      <td>25000.000000</td>\n",
       "      <td>25000.000000</td>\n",
       "      <td>24010.000000</td>\n",
       "      <td>13119.000000</td>\n",
       "      <td>25000.000000</td>\n",
       "      <td>25000.000000</td>\n",
       "      <td>24092</td>\n",
       "      <td>25000.000000</td>\n",
       "      <td>25000.000000</td>\n",
       "      <td>25000.000000</td>\n",
       "    </tr>\n",
       "    <tr>\n",
       "      <th>unique</th>\n",
       "      <td>2</td>\n",
       "      <td>3</td>\n",
       "      <td>4</td>\n",
       "      <td>6</td>\n",
       "      <td>NaN</td>\n",
       "      <td>NaN</td>\n",
       "      <td>NaN</td>\n",
       "      <td>NaN</td>\n",
       "      <td>2</td>\n",
       "      <td>NaN</td>\n",
       "      <td>NaN</td>\n",
       "      <td>NaN</td>\n",
       "      <td>NaN</td>\n",
       "      <td>NaN</td>\n",
       "      <td>NaN</td>\n",
       "      <td>NaN</td>\n",
       "      <td>NaN</td>\n",
       "      <td>NaN</td>\n",
       "      <td>5</td>\n",
       "      <td>NaN</td>\n",
       "      <td>NaN</td>\n",
       "      <td>NaN</td>\n",
       "    </tr>\n",
       "    <tr>\n",
       "      <th>top</th>\n",
       "      <td>Rural</td>\n",
       "      <td>Large</td>\n",
       "      <td>North</td>\n",
       "      <td>Zone 6</td>\n",
       "      <td>NaN</td>\n",
       "      <td>NaN</td>\n",
       "      <td>NaN</td>\n",
       "      <td>NaN</td>\n",
       "      <td>Company Owned</td>\n",
       "      <td>NaN</td>\n",
       "      <td>NaN</td>\n",
       "      <td>NaN</td>\n",
       "      <td>NaN</td>\n",
       "      <td>NaN</td>\n",
       "      <td>NaN</td>\n",
       "      <td>NaN</td>\n",
       "      <td>NaN</td>\n",
       "      <td>NaN</td>\n",
       "      <td>C</td>\n",
       "      <td>NaN</td>\n",
       "      <td>NaN</td>\n",
       "      <td>NaN</td>\n",
       "    </tr>\n",
       "    <tr>\n",
       "      <th>freq</th>\n",
       "      <td>22957</td>\n",
       "      <td>10169</td>\n",
       "      <td>10278</td>\n",
       "      <td>8339</td>\n",
       "      <td>NaN</td>\n",
       "      <td>NaN</td>\n",
       "      <td>NaN</td>\n",
       "      <td>NaN</td>\n",
       "      <td>13578</td>\n",
       "      <td>NaN</td>\n",
       "      <td>NaN</td>\n",
       "      <td>NaN</td>\n",
       "      <td>NaN</td>\n",
       "      <td>NaN</td>\n",
       "      <td>NaN</td>\n",
       "      <td>NaN</td>\n",
       "      <td>NaN</td>\n",
       "      <td>NaN</td>\n",
       "      <td>5501</td>\n",
       "      <td>NaN</td>\n",
       "      <td>NaN</td>\n",
       "      <td>NaN</td>\n",
       "    </tr>\n",
       "    <tr>\n",
       "      <th>mean</th>\n",
       "      <td>NaN</td>\n",
       "      <td>NaN</td>\n",
       "      <td>NaN</td>\n",
       "      <td>NaN</td>\n",
       "      <td>4.089040</td>\n",
       "      <td>0.773680</td>\n",
       "      <td>3.104200</td>\n",
       "      <td>4985.711560</td>\n",
       "      <td>NaN</td>\n",
       "      <td>42.418120</td>\n",
       "      <td>0.098160</td>\n",
       "      <td>0.054640</td>\n",
       "      <td>0.656880</td>\n",
       "      <td>163.537320</td>\n",
       "      <td>28.944398</td>\n",
       "      <td>2009.383185</td>\n",
       "      <td>17.130440</td>\n",
       "      <td>0.303280</td>\n",
       "      <td>NaN</td>\n",
       "      <td>3.482040</td>\n",
       "      <td>18.812280</td>\n",
       "      <td>22102.632920</td>\n",
       "    </tr>\n",
       "    <tr>\n",
       "      <th>std</th>\n",
       "      <td>NaN</td>\n",
       "      <td>NaN</td>\n",
       "      <td>NaN</td>\n",
       "      <td>NaN</td>\n",
       "      <td>2.606612</td>\n",
       "      <td>1.199449</td>\n",
       "      <td>1.141663</td>\n",
       "      <td>1052.825252</td>\n",
       "      <td>NaN</td>\n",
       "      <td>16.064329</td>\n",
       "      <td>0.297537</td>\n",
       "      <td>0.227281</td>\n",
       "      <td>0.474761</td>\n",
       "      <td>62.718609</td>\n",
       "      <td>7.872534</td>\n",
       "      <td>7.528230</td>\n",
       "      <td>9.161108</td>\n",
       "      <td>0.459684</td>\n",
       "      <td>NaN</td>\n",
       "      <td>1.690335</td>\n",
       "      <td>8.632382</td>\n",
       "      <td>11607.755077</td>\n",
       "    </tr>\n",
       "    <tr>\n",
       "      <th>min</th>\n",
       "      <td>NaN</td>\n",
       "      <td>NaN</td>\n",
       "      <td>NaN</td>\n",
       "      <td>NaN</td>\n",
       "      <td>0.000000</td>\n",
       "      <td>0.000000</td>\n",
       "      <td>0.000000</td>\n",
       "      <td>1821.000000</td>\n",
       "      <td>NaN</td>\n",
       "      <td>15.000000</td>\n",
       "      <td>0.000000</td>\n",
       "      <td>0.000000</td>\n",
       "      <td>0.000000</td>\n",
       "      <td>55.000000</td>\n",
       "      <td>10.000000</td>\n",
       "      <td>1996.000000</td>\n",
       "      <td>0.000000</td>\n",
       "      <td>0.000000</td>\n",
       "      <td>NaN</td>\n",
       "      <td>0.000000</td>\n",
       "      <td>1.000000</td>\n",
       "      <td>2065.000000</td>\n",
       "    </tr>\n",
       "    <tr>\n",
       "      <th>25%</th>\n",
       "      <td>NaN</td>\n",
       "      <td>NaN</td>\n",
       "      <td>NaN</td>\n",
       "      <td>NaN</td>\n",
       "      <td>2.000000</td>\n",
       "      <td>0.000000</td>\n",
       "      <td>2.000000</td>\n",
       "      <td>4313.000000</td>\n",
       "      <td>NaN</td>\n",
       "      <td>29.000000</td>\n",
       "      <td>0.000000</td>\n",
       "      <td>0.000000</td>\n",
       "      <td>0.000000</td>\n",
       "      <td>109.000000</td>\n",
       "      <td>24.000000</td>\n",
       "      <td>2003.000000</td>\n",
       "      <td>10.000000</td>\n",
       "      <td>0.000000</td>\n",
       "      <td>NaN</td>\n",
       "      <td>2.000000</td>\n",
       "      <td>11.000000</td>\n",
       "      <td>13059.000000</td>\n",
       "    </tr>\n",
       "    <tr>\n",
       "      <th>50%</th>\n",
       "      <td>NaN</td>\n",
       "      <td>NaN</td>\n",
       "      <td>NaN</td>\n",
       "      <td>NaN</td>\n",
       "      <td>4.000000</td>\n",
       "      <td>0.000000</td>\n",
       "      <td>3.000000</td>\n",
       "      <td>4859.000000</td>\n",
       "      <td>NaN</td>\n",
       "      <td>42.000000</td>\n",
       "      <td>0.000000</td>\n",
       "      <td>0.000000</td>\n",
       "      <td>1.000000</td>\n",
       "      <td>164.000000</td>\n",
       "      <td>28.000000</td>\n",
       "      <td>2009.000000</td>\n",
       "      <td>18.000000</td>\n",
       "      <td>0.000000</td>\n",
       "      <td>NaN</td>\n",
       "      <td>3.000000</td>\n",
       "      <td>21.000000</td>\n",
       "      <td>22101.000000</td>\n",
       "    </tr>\n",
       "    <tr>\n",
       "      <th>75%</th>\n",
       "      <td>NaN</td>\n",
       "      <td>NaN</td>\n",
       "      <td>NaN</td>\n",
       "      <td>NaN</td>\n",
       "      <td>6.000000</td>\n",
       "      <td>1.000000</td>\n",
       "      <td>4.000000</td>\n",
       "      <td>5500.000000</td>\n",
       "      <td>NaN</td>\n",
       "      <td>56.000000</td>\n",
       "      <td>0.000000</td>\n",
       "      <td>0.000000</td>\n",
       "      <td>1.000000</td>\n",
       "      <td>218.000000</td>\n",
       "      <td>33.000000</td>\n",
       "      <td>2016.000000</td>\n",
       "      <td>24.000000</td>\n",
       "      <td>1.000000</td>\n",
       "      <td>NaN</td>\n",
       "      <td>5.000000</td>\n",
       "      <td>26.000000</td>\n",
       "      <td>30103.000000</td>\n",
       "    </tr>\n",
       "    <tr>\n",
       "      <th>max</th>\n",
       "      <td>NaN</td>\n",
       "      <td>NaN</td>\n",
       "      <td>NaN</td>\n",
       "      <td>NaN</td>\n",
       "      <td>8.000000</td>\n",
       "      <td>5.000000</td>\n",
       "      <td>12.000000</td>\n",
       "      <td>11008.000000</td>\n",
       "      <td>NaN</td>\n",
       "      <td>70.000000</td>\n",
       "      <td>1.000000</td>\n",
       "      <td>1.000000</td>\n",
       "      <td>1.000000</td>\n",
       "      <td>271.000000</td>\n",
       "      <td>98.000000</td>\n",
       "      <td>2023.000000</td>\n",
       "      <td>39.000000</td>\n",
       "      <td>1.000000</td>\n",
       "      <td>NaN</td>\n",
       "      <td>6.000000</td>\n",
       "      <td>32.000000</td>\n",
       "      <td>55151.000000</td>\n",
       "    </tr>\n",
       "  </tbody>\n",
       "</table>\n",
       "</div>"
      ],
      "text/plain": [
       "       Location_type WH_capacity_size   zone WH_regional_zone  \\\n",
       "count          25000            25000  25000            25000   \n",
       "unique             2                3      4                6   \n",
       "top            Rural            Large  North           Zone 6   \n",
       "freq           22957            10169  10278             8339   \n",
       "mean             NaN              NaN    NaN              NaN   \n",
       "std              NaN              NaN    NaN              NaN   \n",
       "min              NaN              NaN    NaN              NaN   \n",
       "25%              NaN              NaN    NaN              NaN   \n",
       "50%              NaN              NaN    NaN              NaN   \n",
       "75%              NaN              NaN    NaN              NaN   \n",
       "max              NaN              NaN    NaN              NaN   \n",
       "\n",
       "        num_refill_req_l3m  transport_issue_l1y  Competitor_in_mkt  \\\n",
       "count         25000.000000         25000.000000       25000.000000   \n",
       "unique                 NaN                  NaN                NaN   \n",
       "top                    NaN                  NaN                NaN   \n",
       "freq                   NaN                  NaN                NaN   \n",
       "mean              4.089040             0.773680           3.104200   \n",
       "std               2.606612             1.199449           1.141663   \n",
       "min               0.000000             0.000000           0.000000   \n",
       "25%               2.000000             0.000000           2.000000   \n",
       "50%               4.000000             0.000000           3.000000   \n",
       "75%               6.000000             1.000000           4.000000   \n",
       "max               8.000000             5.000000          12.000000   \n",
       "\n",
       "        retail_shop_num  wh_owner_type  distributor_num  flood_impacted  \\\n",
       "count      25000.000000          25000     25000.000000    25000.000000   \n",
       "unique              NaN              2              NaN             NaN   \n",
       "top                 NaN  Company Owned              NaN             NaN   \n",
       "freq                NaN          13578              NaN             NaN   \n",
       "mean        4985.711560            NaN        42.418120        0.098160   \n",
       "std         1052.825252            NaN        16.064329        0.297537   \n",
       "min         1821.000000            NaN        15.000000        0.000000   \n",
       "25%         4313.000000            NaN        29.000000        0.000000   \n",
       "50%         4859.000000            NaN        42.000000        0.000000   \n",
       "75%         5500.000000            NaN        56.000000        0.000000   \n",
       "max        11008.000000            NaN        70.000000        1.000000   \n",
       "\n",
       "         flood_proof  electric_supply  dist_from_hub   workers_num  \\\n",
       "count   25000.000000     25000.000000   25000.000000  24010.000000   \n",
       "unique           NaN              NaN            NaN           NaN   \n",
       "top              NaN              NaN            NaN           NaN   \n",
       "freq             NaN              NaN            NaN           NaN   \n",
       "mean        0.054640         0.656880     163.537320     28.944398   \n",
       "std         0.227281         0.474761      62.718609      7.872534   \n",
       "min         0.000000         0.000000      55.000000     10.000000   \n",
       "25%         0.000000         0.000000     109.000000     24.000000   \n",
       "50%         0.000000         1.000000     164.000000     28.000000   \n",
       "75%         0.000000         1.000000     218.000000     33.000000   \n",
       "max         1.000000         1.000000     271.000000     98.000000   \n",
       "\n",
       "         wh_est_year  storage_issue_reported_l3m  temp_reg_mach  \\\n",
       "count   13119.000000                25000.000000   25000.000000   \n",
       "unique           NaN                         NaN            NaN   \n",
       "top              NaN                         NaN            NaN   \n",
       "freq             NaN                         NaN            NaN   \n",
       "mean     2009.383185                   17.130440       0.303280   \n",
       "std         7.528230                    9.161108       0.459684   \n",
       "min      1996.000000                    0.000000       0.000000   \n",
       "25%      2003.000000                   10.000000       0.000000   \n",
       "50%      2009.000000                   18.000000       0.000000   \n",
       "75%      2016.000000                   24.000000       1.000000   \n",
       "max      2023.000000                   39.000000       1.000000   \n",
       "\n",
       "       approved_wh_govt_certificate  wh_breakdown_l3m  govt_check_l3m  \\\n",
       "count                         24092      25000.000000    25000.000000   \n",
       "unique                            5               NaN             NaN   \n",
       "top                               C               NaN             NaN   \n",
       "freq                           5501               NaN             NaN   \n",
       "mean                            NaN          3.482040       18.812280   \n",
       "std                             NaN          1.690335        8.632382   \n",
       "min                             NaN          0.000000        1.000000   \n",
       "25%                             NaN          2.000000       11.000000   \n",
       "50%                             NaN          3.000000       21.000000   \n",
       "75%                             NaN          5.000000       26.000000   \n",
       "max                             NaN          6.000000       32.000000   \n",
       "\n",
       "        product_wg_ton  \n",
       "count     25000.000000  \n",
       "unique             NaN  \n",
       "top                NaN  \n",
       "freq               NaN  \n",
       "mean      22102.632920  \n",
       "std       11607.755077  \n",
       "min        2065.000000  \n",
       "25%       13059.000000  \n",
       "50%       22101.000000  \n",
       "75%       30103.000000  \n",
       "max       55151.000000  "
      ]
     },
     "execution_count": 7,
     "metadata": {},
     "output_type": "execute_result"
    }
   ],
   "source": [
    "pd.set_option('display.max_columns', None)\n",
    "df.describe(include = 'all')"
   ]
  },
  {
   "cell_type": "code",
   "execution_count": 8,
   "id": "d6b87033",
   "metadata": {
    "scrolled": true
   },
   "outputs": [
    {
     "data": {
      "text/plain": [
       "Location_type                       0\n",
       "WH_capacity_size                    0\n",
       "zone                                0\n",
       "WH_regional_zone                    0\n",
       "num_refill_req_l3m                  0\n",
       "transport_issue_l1y                 0\n",
       "Competitor_in_mkt                   0\n",
       "retail_shop_num                     0\n",
       "wh_owner_type                       0\n",
       "distributor_num                     0\n",
       "flood_impacted                      0\n",
       "flood_proof                         0\n",
       "electric_supply                     0\n",
       "dist_from_hub                       0\n",
       "workers_num                       990\n",
       "wh_est_year                     11881\n",
       "storage_issue_reported_l3m          0\n",
       "temp_reg_mach                       0\n",
       "approved_wh_govt_certificate      908\n",
       "wh_breakdown_l3m                    0\n",
       "govt_check_l3m                      0\n",
       "product_wg_ton                      0\n",
       "dtype: int64"
      ]
     },
     "execution_count": 8,
     "metadata": {},
     "output_type": "execute_result"
    }
   ],
   "source": [
    "df.isnull().sum()"
   ]
  },
  {
   "cell_type": "code",
   "execution_count": 9,
   "id": "59f12570",
   "metadata": {
    "scrolled": true
   },
   "outputs": [
    {
     "data": {
      "text/plain": [
       "wh_est_year                     0.47524\n",
       "workers_num                     0.03960\n",
       "approved_wh_govt_certificate    0.03632\n",
       "Location_type                   0.00000\n",
       "WH_capacity_size                0.00000\n",
       "govt_check_l3m                  0.00000\n",
       "wh_breakdown_l3m                0.00000\n",
       "temp_reg_mach                   0.00000\n",
       "storage_issue_reported_l3m      0.00000\n",
       "dist_from_hub                   0.00000\n",
       "electric_supply                 0.00000\n",
       "flood_proof                     0.00000\n",
       "flood_impacted                  0.00000\n",
       "distributor_num                 0.00000\n",
       "wh_owner_type                   0.00000\n",
       "retail_shop_num                 0.00000\n",
       "Competitor_in_mkt               0.00000\n",
       "transport_issue_l1y             0.00000\n",
       "num_refill_req_l3m              0.00000\n",
       "WH_regional_zone                0.00000\n",
       "zone                            0.00000\n",
       "product_wg_ton                  0.00000\n",
       "dtype: float64"
      ]
     },
     "execution_count": 9,
     "metadata": {},
     "output_type": "execute_result"
    }
   ],
   "source": [
    "df.isnull().sum().sort_values(ascending = False)/df.index.size"
   ]
  },
  {
   "cell_type": "code",
   "execution_count": 10,
   "id": "c86f46e4",
   "metadata": {},
   "outputs": [],
   "source": [
    "df.drop('wh_est_year', axis = 1, inplace = True)"
   ]
  },
  {
   "cell_type": "code",
   "execution_count": 11,
   "id": "4f9202d2",
   "metadata": {},
   "outputs": [
    {
     "data": {
      "text/plain": [
       "array([[<AxesSubplot:title={'center':'workers_num'}>]], dtype=object)"
      ]
     },
     "execution_count": 11,
     "metadata": {},
     "output_type": "execute_result"
    },
    {
     "data": {
      "image/png": "[encoded data removed]",
      "text/plain": [
       "<Figure size 432x288 with 1 Axes>"
      ]
     },
     "metadata": {
      "needs_background": "light"
     },
     "output_type": "display_data"
    }
   ],
   "source": [
    "df.hist('workers_num')"
   ]
  },
  {
   "cell_type": "code",
   "execution_count": 12,
   "id": "f8b2863c",
   "metadata": {},
   "outputs": [],
   "source": [
    "df['workers_num'].fillna(df.workers_num.median(), inplace=True)"
   ]
  },
  {
   "cell_type": "code",
   "execution_count": 13,
   "id": "2c9cb96e",
   "metadata": {},
   "outputs": [],
   "source": [
    "from sklearn.impute import KNNImputer"
   ]
  },
  {
   "cell_type": "code",
   "execution_count": 14,
   "id": "6bb3462b",
   "metadata": {},
   "outputs": [],
   "source": [
    "imputer = KNNImputer(n_neighbors=3)"
   ]
  },
  {
   "cell_type": "code",
   "execution_count": 15,
   "id": "04f19dc5",
   "metadata": {},
   "outputs": [],
   "source": [
    "df['approved_wh_govt_certificate'] = df['approved_wh_govt_certificate'].fillna(imputer)"
   ]
  },
  {
   "cell_type": "code",
   "execution_count": 16,
   "id": "49f1e212",
   "metadata": {
    "scrolled": true
   },
   "outputs": [
    {
     "name": "stdout",
     "output_type": "stream",
     "text": [
      "<class 'pandas.core.frame.DataFrame'>\n",
      "RangeIndex: 25000 entries, 0 to 24999\n",
      "Data columns (total 21 columns):\n",
      " #   Column                        Non-Null Count  Dtype  \n",
      "---  ------                        --------------  -----  \n",
      " 0   Location_type                 25000 non-null  object \n",
      " 1   WH_capacity_size              25000 non-null  object \n",
      " 2   zone                          25000 non-null  object \n",
      " 3   WH_regional_zone              25000 non-null  object \n",
      " 4   num_refill_req_l3m            25000 non-null  int64  \n",
      " 5   transport_issue_l1y           25000 non-null  int64  \n",
      " 6   Competitor_in_mkt             25000 non-null  int64  \n",
      " 7   retail_shop_num               25000 non-null  int64  \n",
      " 8   wh_owner_type                 25000 non-null  object \n",
      " 9   distributor_num               25000 non-null  int64  \n",
      " 10  flood_impacted                25000 non-null  int64  \n",
      " 11  flood_proof                   25000 non-null  int64  \n",
      " 12  electric_supply               25000 non-null  int64  \n",
      " 13  dist_from_hub                 25000 non-null  int64  \n",
      " 14  workers_num                   25000 non-null  float64\n",
      " 15  storage_issue_reported_l3m    25000 non-null  int64  \n",
      " 16  temp_reg_mach                 25000 non-null  int64  \n",
      " 17  approved_wh_govt_certificate  25000 non-null  object \n",
      " 18  wh_breakdown_l3m              25000 non-null  int64  \n",
      " 19  govt_check_l3m                25000 non-null  int64  \n",
      " 20  product_wg_ton                25000 non-null  int64  \n",
      "dtypes: float64(1), int64(14), object(6)\n",
      "memory usage: 4.0+ MB\n"
     ]
    }
   ],
   "source": [
    "df.info()"
   ]
  },
  {
   "cell_type": "code",
   "execution_count": 17,
   "id": "5c62f9a6",
   "metadata": {
    "scrolled": true
   },
   "outputs": [
    {
     "data": {
      "text/plain": [
       "<AxesSubplot:>"
      ]
     },
     "execution_count": 17,
     "metadata": {},
     "output_type": "execute_result"
    },
    {
     "data": {
      "image/png": "[encoded data removed]",
      "text/plain": [
       "<Figure size 1440x1080 with 1 Axes>"
      ]
     },
     "metadata": {
      "needs_background": "light"
     },
     "output_type": "display_data"
    }
   ],
   "source": [
    "plt.figure(figsize=(20,15))\n",
    "df.boxplot()"
   ]
  },
  {
   "cell_type": "code",
   "execution_count": 18,
   "id": "cc9ff9f1",
   "metadata": {},
   "outputs": [],
   "source": [
    "Q1 = df.quantile(0.25)\n",
    "Q3 = df.quantile(0.75)\n",
    "IQR = Q3 - Q1\n",
    "UL = Q3 + 1.5*IQR\n",
    "LL = Q1 - 1.5*IQR"
   ]
  },
  {
   "cell_type": "code",
   "execution_count": 19,
   "id": "c34ca0e5",
   "metadata": {},
   "outputs": [
    {
     "name": "stderr",
     "output_type": "stream",
     "text": [
      "C:\\Users\\Sumit\\AppData\\Local\\Temp/ipykernel_11700/164218823.py:1: FutureWarning: Automatic reindexing on DataFrame vs Series comparisons is deprecated and will raise ValueError in a future version.  Do `left, right = left.align(right, axis=1, copy=False)` before e.g. `left == right`\n",
      "  ((df > UL) | (df < LL)).sum()\n"
     ]
    },
    {
     "data": {
      "text/plain": [
       "Competitor_in_mkt                 96\n",
       "Location_type                      0\n",
       "WH_capacity_size                   0\n",
       "WH_regional_zone                   0\n",
       "approved_wh_govt_certificate       0\n",
       "dist_from_hub                      0\n",
       "distributor_num                    0\n",
       "electric_supply                    0\n",
       "flood_impacted                  2454\n",
       "flood_proof                     1366\n",
       "govt_check_l3m                     0\n",
       "num_refill_req_l3m                 0\n",
       "product_wg_ton                     0\n",
       "retail_shop_num                  948\n",
       "storage_issue_reported_l3m         0\n",
       "temp_reg_mach                      0\n",
       "transport_issue_l1y             2943\n",
       "wh_breakdown_l3m                   0\n",
       "wh_owner_type                      0\n",
       "workers_num                      607\n",
       "zone                               0\n",
       "dtype: int64"
      ]
     },
     "execution_count": 19,
     "metadata": {},
     "output_type": "execute_result"
    }
   ],
   "source": [
    "((df > UL) | (df < LL)).sum()"
   ]
  },
  {
   "cell_type": "code",
   "execution_count": 20,
   "id": "3c564319",
   "metadata": {},
   "outputs": [
    {
     "data": {
      "text/plain": [
       "<AxesSubplot:>"
      ]
     },
     "execution_count": 20,
     "metadata": {},
     "output_type": "execute_result"
    },
    {
     "data": {
      "image/png": "[encoded data removed]",
      "text/plain": [
       "<Figure size 432x288 with 1 Axes>"
      ]
     },
     "metadata": {
      "needs_background": "light"
     },
     "output_type": "display_data"
    }
   ],
   "source": [
    "df.boxplot('workers_num')"
   ]
  },
  {
   "cell_type": "code",
   "execution_count": 21,
   "id": "9455f253",
   "metadata": {
    "scrolled": false
   },
   "outputs": [
    {
     "name": "stderr",
     "output_type": "stream",
     "text": [
      "C:\\Users\\Sumit\\anaconda3\\lib\\site-packages\\seaborn\\distributions.py:2619: FutureWarning: `distplot` is a deprecated function and will be removed in a future version. Please adapt your code to use either `displot` (a figure-level function with similar flexibility) or `histplot` (an axes-level function for histograms).\n",
      "  warnings.warn(msg, FutureWarning)\n",
      "C:\\Users\\Sumit\\anaconda3\\lib\\site-packages\\seaborn\\_decorators.py:36: FutureWarning: Pass the following variable as a keyword arg: x. From version 0.12, the only valid positional argument will be `data`, and passing other arguments without an explicit keyword will result in an error or misinterpretation.\n",
      "  warnings.warn(\n",
      "C:\\Users\\Sumit\\anaconda3\\lib\\site-packages\\seaborn\\_core.py:1326: UserWarning: Vertical orientation ignored with only `x` specified.\n",
      "  warnings.warn(single_var_warning.format(\"Vertical\", \"x\"))\n",
      "C:\\Users\\Sumit\\anaconda3\\lib\\site-packages\\seaborn\\distributions.py:2619: FutureWarning: `distplot` is a deprecated function and will be removed in a future version. Please adapt your code to use either `displot` (a figure-level function with similar flexibility) or `histplot` (an axes-level function for histograms).\n",
      "  warnings.warn(msg, FutureWarning)\n",
      "C:\\Users\\Sumit\\anaconda3\\lib\\site-packages\\seaborn\\_decorators.py:36: FutureWarning: Pass the following variable as a keyword arg: x. From version 0.12, the only valid positional argument will be `data`, and passing other arguments without an explicit keyword will result in an error or misinterpretation.\n",
      "  warnings.warn(\n",
      "C:\\Users\\Sumit\\anaconda3\\lib\\site-packages\\seaborn\\_core.py:1326: UserWarning: Vertical orientation ignored with only `x` specified.\n",
      "  warnings.warn(single_var_warning.format(\"Vertical\", \"x\"))\n",
      "C:\\Users\\Sumit\\anaconda3\\lib\\site-packages\\seaborn\\distributions.py:2619: FutureWarning: `distplot` is a deprecated function and will be removed in a future version. Please adapt your code to use either `displot` (a figure-level function with similar flexibility) or `histplot` (an axes-level function for histograms).\n",
      "  warnings.warn(msg, FutureWarning)\n",
      "C:\\Users\\Sumit\\anaconda3\\lib\\site-packages\\seaborn\\_decorators.py:36: FutureWarning: Pass the following variable as a keyword arg: x. From version 0.12, the only valid positional argument will be `data`, and passing other arguments without an explicit keyword will result in an error or misinterpretation.\n",
      "  warnings.warn(\n",
      "C:\\Users\\Sumit\\anaconda3\\lib\\site-packages\\seaborn\\_core.py:1326: UserWarning: Vertical orientation ignored with only `x` specified.\n",
      "  warnings.warn(single_var_warning.format(\"Vertical\", \"x\"))\n",
      "C:\\Users\\Sumit\\anaconda3\\lib\\site-packages\\seaborn\\distributions.py:2619: FutureWarning: `distplot` is a deprecated function and will be removed in a future version. Please adapt your code to use either `displot` (a figure-level function with similar flexibility) or `histplot` (an axes-level function for histograms).\n",
      "  warnings.warn(msg, FutureWarning)\n",
      "C:\\Users\\Sumit\\anaconda3\\lib\\site-packages\\seaborn\\_decorators.py:36: FutureWarning: Pass the following variable as a keyword arg: x. From version 0.12, the only valid positional argument will be `data`, and passing other arguments without an explicit keyword will result in an error or misinterpretation.\n",
      "  warnings.warn(\n",
      "C:\\Users\\Sumit\\anaconda3\\lib\\site-packages\\seaborn\\_core.py:1326: UserWarning: Vertical orientation ignored with only `x` specified.\n",
      "  warnings.warn(single_var_warning.format(\"Vertical\", \"x\"))\n"
     ]
    },
    {
     "data": {
      "image/png": "[encoded data removed]",
      "text/plain": [
       "<Figure size 1080x2160 with 8 Axes>"
      ]
     },
     "metadata": {
      "needs_background": "light"
     },
     "output_type": "display_data"
    }
   ],
   "source": [
    "fig, axes = plt.subplots(nrows=4,ncols=2)\n",
    "fig.set_size_inches(15,30)\n",
    "a = sns.distplot(df['num_refill_req_l3m'] , ax=axes[0][0])\n",
    "a.set_title(\"num_refill_req_l3m Distribution\",fontsize=15)\n",
    "\n",
    "a = sns.boxplot(df['num_refill_req_l3m'] , orient = \"v\" , ax=axes[0][1])\n",
    "a.set_title(\"num_refill_req_l3m Boxplot\",fontsize=15)\n",
    "\n",
    "a = sns.distplot(df['transport_issue_l1y'] , ax=axes[1][0])\n",
    "a.set_title(\"transport_issue_l1y Distribution\",fontsize=15)\n",
    "\n",
    "a = sns.boxplot(df['transport_issue_l1y'] , orient = \"v\" , ax=axes[1][1])\n",
    "a.set_title(\"transport_issue_l1y Boxplot\",fontsize=15)\n",
    "\n",
    "\n",
    "a = sns.distplot(df['Competitor_in_mkt'] , ax=axes[2][0])\n",
    "a.set_title(\"Competitor_in_mkt Distribution\",fontsize=15)\n",
    "\n",
    "a = sns.boxplot(df['Competitor_in_mkt'] , orient = \"v\" , ax=axes[2][1])\n",
    "a.set_title(\"Competitor_in_mkt Boxplot\",fontsize=15)\n",
    "\n",
    "\n",
    "a = sns.distplot(df['retail_shop_num'] , ax=axes[3][0])\n",
    "a.set_title(\"retail_shop_num Distribution\",fontsize=15)\n",
    "\n",
    "a = sns.boxplot(df['retail_shop_num'] , orient = \"v\" , ax=axes[3][1])\n",
    "a.set_title(\"retail_shop_num Boxplot\",fontsize=15)\n",
    "\n",
    "plt.show();"
   ]
  },
  {
   "cell_type": "code",
   "execution_count": 22,
   "id": "829fc018",
   "metadata": {
    "scrolled": false
   },
   "outputs": [
    {
     "name": "stderr",
     "output_type": "stream",
     "text": [
      "C:\\Users\\Sumit\\anaconda3\\lib\\site-packages\\seaborn\\distributions.py:2619: FutureWarning: `distplot` is a deprecated function and will be removed in a future version. Please adapt your code to use either `displot` (a figure-level function with similar flexibility) or `histplot` (an axes-level function for histograms).\n",
      "  warnings.warn(msg, FutureWarning)\n",
      "C:\\Users\\Sumit\\anaconda3\\lib\\site-packages\\seaborn\\_decorators.py:36: FutureWarning: Pass the following variable as a keyword arg: x. From version 0.12, the only valid positional argument will be `data`, and passing other arguments without an explicit keyword will result in an error or misinterpretation.\n",
      "  warnings.warn(\n",
      "C:\\Users\\Sumit\\anaconda3\\lib\\site-packages\\seaborn\\_core.py:1326: UserWarning: Vertical orientation ignored with only `x` specified.\n",
      "  warnings.warn(single_var_warning.format(\"Vertical\", \"x\"))\n",
      "C:\\Users\\Sumit\\anaconda3\\lib\\site-packages\\seaborn\\distributions.py:2619: FutureWarning: `distplot` is a deprecated function and will be removed in a future version. Please adapt your code to use either `displot` (a figure-level function with similar flexibility) or `histplot` (an axes-level function for histograms).\n",
      "  warnings.warn(msg, FutureWarning)\n",
      "C:\\Users\\Sumit\\anaconda3\\lib\\site-packages\\seaborn\\_decorators.py:36: FutureWarning: Pass the following variable as a keyword arg: x. From version 0.12, the only valid positional argument will be `data`, and passing other arguments without an explicit keyword will result in an error or misinterpretation.\n",
      "  warnings.warn(\n",
      "C:\\Users\\Sumit\\anaconda3\\lib\\site-packages\\seaborn\\_core.py:1326: UserWarning: Vertical orientation ignored with only `x` specified.\n",
      "  warnings.warn(single_var_warning.format(\"Vertical\", \"x\"))\n",
      "C:\\Users\\Sumit\\anaconda3\\lib\\site-packages\\seaborn\\distributions.py:2619: FutureWarning: `distplot` is a deprecated function and will be removed in a future version. Please adapt your code to use either `displot` (a figure-level function with similar flexibility) or `histplot` (an axes-level function for histograms).\n",
      "  warnings.warn(msg, FutureWarning)\n",
      "C:\\Users\\Sumit\\anaconda3\\lib\\site-packages\\seaborn\\_decorators.py:36: FutureWarning: Pass the following variable as a keyword arg: x. From version 0.12, the only valid positional argument will be `data`, and passing other arguments without an explicit keyword will result in an error or misinterpretation.\n",
      "  warnings.warn(\n",
      "C:\\Users\\Sumit\\anaconda3\\lib\\site-packages\\seaborn\\_core.py:1326: UserWarning: Vertical orientation ignored with only `x` specified.\n",
      "  warnings.warn(single_var_warning.format(\"Vertical\", \"x\"))\n"
     ]
    },
    {
     "data": {
      "image/png": "[encoded data removed]",
      "text/plain": [
       "<Figure size 720x1080 with 6 Axes>"
      ]
     },
     "metadata": {
      "needs_background": "light"
     },
     "output_type": "display_data"
    }
   ],
   "source": [
    "fig, axes = plt.subplots(nrows=3,ncols=2)\n",
    "fig.set_size_inches(10,15)\n",
    "\n",
    "a = sns.distplot(df['distributor_num'] , ax=axes[0][0])\n",
    "a.set_title(\"distributor_num Distribution\",fontsize=15)\n",
    "\n",
    "a = sns.boxplot(df['distributor_num'] , orient = \"v\" , ax=axes[0][1])\n",
    "a.set_title(\"distributor_num Boxplot\",fontsize=15)\n",
    "\n",
    "\n",
    "a = sns.distplot(df['dist_from_hub'] , ax=axes[1][0])\n",
    "a.set_title('dist_from_hub Distribution',fontsize=15)\n",
    "\n",
    "a = sns.boxplot(df['dist_from_hub'] , orient = \"v\" , ax=axes[1][1])\n",
    "a.set_title(\"dist_from_hub Boxplot\",fontsize=15)\n",
    "\n",
    "\n",
    "a = sns.distplot(df['workers_num'] , ax=axes[2][0])\n",
    "a.set_title(\"workers_num Distribution\",fontsize=15)\n",
    "\n",
    "a = sns.boxplot(df['workers_num'] , orient = \"v\" , ax=axes[2][1])\n",
    "a.set_title(\"workers_num Boxplot\",fontsize=15)\n",
    "\n",
    "plt.show();"
   ]
  },
  {
   "cell_type": "code",
   "execution_count": 23,
   "id": "a33471cd",
   "metadata": {
    "scrolled": false
   },
   "outputs": [
    {
     "name": "stderr",
     "output_type": "stream",
     "text": [
      "C:\\Users\\Sumit\\anaconda3\\lib\\site-packages\\seaborn\\distributions.py:2619: FutureWarning: `distplot` is a deprecated function and will be removed in a future version. Please adapt your code to use either `displot` (a figure-level function with similar flexibility) or `histplot` (an axes-level function for histograms).\n",
      "  warnings.warn(msg, FutureWarning)\n",
      "C:\\Users\\Sumit\\anaconda3\\lib\\site-packages\\seaborn\\_decorators.py:36: FutureWarning: Pass the following variable as a keyword arg: x. From version 0.12, the only valid positional argument will be `data`, and passing other arguments without an explicit keyword will result in an error or misinterpretation.\n",
      "  warnings.warn(\n",
      "C:\\Users\\Sumit\\anaconda3\\lib\\site-packages\\seaborn\\_core.py:1326: UserWarning: Vertical orientation ignored with only `x` specified.\n",
      "  warnings.warn(single_var_warning.format(\"Vertical\", \"x\"))\n",
      "C:\\Users\\Sumit\\anaconda3\\lib\\site-packages\\seaborn\\distributions.py:2619: FutureWarning: `distplot` is a deprecated function and will be removed in a future version. Please adapt your code to use either `displot` (a figure-level function with similar flexibility) or `histplot` (an axes-level function for histograms).\n",
      "  warnings.warn(msg, FutureWarning)\n",
      "C:\\Users\\Sumit\\anaconda3\\lib\\site-packages\\seaborn\\_decorators.py:36: FutureWarning: Pass the following variable as a keyword arg: x. From version 0.12, the only valid positional argument will be `data`, and passing other arguments without an explicit keyword will result in an error or misinterpretation.\n",
      "  warnings.warn(\n",
      "C:\\Users\\Sumit\\anaconda3\\lib\\site-packages\\seaborn\\_core.py:1326: UserWarning: Vertical orientation ignored with only `x` specified.\n",
      "  warnings.warn(single_var_warning.format(\"Vertical\", \"x\"))\n",
      "C:\\Users\\Sumit\\anaconda3\\lib\\site-packages\\seaborn\\distributions.py:2619: FutureWarning: `distplot` is a deprecated function and will be removed in a future version. Please adapt your code to use either `displot` (a figure-level function with similar flexibility) or `histplot` (an axes-level function for histograms).\n",
      "  warnings.warn(msg, FutureWarning)\n",
      "C:\\Users\\Sumit\\anaconda3\\lib\\site-packages\\seaborn\\_decorators.py:36: FutureWarning: Pass the following variable as a keyword arg: x. From version 0.12, the only valid positional argument will be `data`, and passing other arguments without an explicit keyword will result in an error or misinterpretation.\n",
      "  warnings.warn(\n",
      "C:\\Users\\Sumit\\anaconda3\\lib\\site-packages\\seaborn\\_core.py:1326: UserWarning: Vertical orientation ignored with only `x` specified.\n",
      "  warnings.warn(single_var_warning.format(\"Vertical\", \"x\"))\n",
      "C:\\Users\\Sumit\\anaconda3\\lib\\site-packages\\seaborn\\distributions.py:2619: FutureWarning: `distplot` is a deprecated function and will be removed in a future version. Please adapt your code to use either `displot` (a figure-level function with similar flexibility) or `histplot` (an axes-level function for histograms).\n",
      "  warnings.warn(msg, FutureWarning)\n",
      "C:\\Users\\Sumit\\anaconda3\\lib\\site-packages\\seaborn\\_decorators.py:36: FutureWarning: Pass the following variable as a keyword arg: x. From version 0.12, the only valid positional argument will be `data`, and passing other arguments without an explicit keyword will result in an error or misinterpretation.\n",
      "  warnings.warn(\n",
      "C:\\Users\\Sumit\\anaconda3\\lib\\site-packages\\seaborn\\_core.py:1326: UserWarning: Vertical orientation ignored with only `x` specified.\n",
      "  warnings.warn(single_var_warning.format(\"Vertical\", \"x\"))\n"
     ]
    },
    {
     "data": {
      "image/png": "[encoded data removed]",
      "text/plain": [
       "<Figure size 1440x1800 with 8 Axes>"
      ]
     },
     "metadata": {
      "needs_background": "light"
     },
     "output_type": "display_data"
    }
   ],
   "source": [
    "fig, axes = plt.subplots(nrows=4,ncols=2)\n",
    "fig.set_size_inches(20,25)\n",
    "\n",
    "a = sns.distplot(df['storage_issue_reported_l3m'] , ax=axes[0][0])\n",
    "a.set_title(\"storage_issue_reported_l3m Distribution\",fontsize=15)\n",
    "\n",
    "a = sns.boxplot(df['storage_issue_reported_l3m'] , orient = \"v\" , ax=axes[0][1])\n",
    "a.set_title(\"storage_issue_reported_l3m Boxplot\",fontsize=15)\n",
    "\n",
    "\n",
    "a = sns.distplot(df['wh_breakdown_l3m'] , ax=axes[1][0])\n",
    "a.set_title('wh_breakdown_l3m Distribution',fontsize=15)\n",
    "\n",
    "a = sns.boxplot(df['wh_breakdown_l3m'] , orient = \"v\" , ax=axes[1][1])\n",
    "a.set_title(\"wh_breakdown_l3m Boxplot\",fontsize=15)\n",
    "\n",
    "\n",
    "a = sns.distplot(df['govt_check_l3m'] , ax=axes[2][0])\n",
    "a.set_title(\"govt_check_l3m Distribution\",fontsize=15)\n",
    "\n",
    "a = sns.boxplot(df['govt_check_l3m'] , orient = \"v\" , ax=axes[2][1])\n",
    "a.set_title(\"govt_check_l3m Boxplot\",fontsize=15)\n",
    "\n",
    "a = sns.distplot(df['product_wg_ton'] , ax=axes[3][0])\n",
    "a.set_title(\"product_wg_ton Distribution\",fontsize=15)\n",
    "\n",
    "a = sns.boxplot(df['product_wg_ton'] , orient = \"v\" , ax=axes[3][1])\n",
    "a.set_title(\"product_wg_ton Boxplot\",fontsize=15)\n",
    "\n",
    "plt.show();"
   ]
  },
  {
   "cell_type": "code",
   "execution_count": 24,
   "id": "af06f8a8",
   "metadata": {},
   "outputs": [
    {
     "name": "stdout",
     "output_type": "stream",
     "text": [
      "<class 'pandas.core.frame.DataFrame'>\n",
      "RangeIndex: 25000 entries, 0 to 24999\n",
      "Data columns (total 21 columns):\n",
      " #   Column                        Non-Null Count  Dtype  \n",
      "---  ------                        --------------  -----  \n",
      " 0   Location_type                 25000 non-null  object \n",
      " 1   WH_capacity_size              25000 non-null  object \n",
      " 2   zone                          25000 non-null  object \n",
      " 3   WH_regional_zone              25000 non-null  object \n",
      " 4   num_refill_req_l3m            25000 non-null  int64  \n",
      " 5   transport_issue_l1y           25000 non-null  int64  \n",
      " 6   Competitor_in_mkt             25000 non-null  int64  \n",
      " 7   retail_shop_num               25000 non-null  int64  \n",
      " 8   wh_owner_type                 25000 non-null  object \n",
      " 9   distributor_num               25000 non-null  int64  \n",
      " 10  flood_impacted                25000 non-null  int64  \n",
      " 11  flood_proof                   25000 non-null  int64  \n",
      " 12  electric_supply               25000 non-null  int64  \n",
      " 13  dist_from_hub                 25000 non-null  int64  \n",
      " 14  workers_num                   25000 non-null  float64\n",
      " 15  storage_issue_reported_l3m    25000 non-null  int64  \n",
      " 16  temp_reg_mach                 25000 non-null  int64  \n",
      " 17  approved_wh_govt_certificate  25000 non-null  object \n",
      " 18  wh_breakdown_l3m              25000 non-null  int64  \n",
      " 19  govt_check_l3m                25000 non-null  int64  \n",
      " 20  product_wg_ton                25000 non-null  int64  \n",
      "dtypes: float64(1), int64(14), object(6)\n",
      "memory usage: 4.0+ MB\n"
     ]
    }
   ],
   "source": [
    "df.info()"
   ]
  },
  {
   "cell_type": "code",
   "execution_count": 25,
   "id": "aacce2bd",
   "metadata": {
    "scrolled": false
   },
   "outputs": [
    {
     "name": "stderr",
     "output_type": "stream",
     "text": [
      "C:\\Users\\Sumit\\anaconda3\\lib\\site-packages\\seaborn\\_decorators.py:36: FutureWarning: Pass the following variable as a keyword arg: x. From version 0.12, the only valid positional argument will be `data`, and passing other arguments without an explicit keyword will result in an error or misinterpretation.\n",
      "  warnings.warn(\n",
      "C:\\Users\\Sumit\\anaconda3\\lib\\site-packages\\seaborn\\_decorators.py:36: FutureWarning: Pass the following variable as a keyword arg: x. From version 0.12, the only valid positional argument will be `data`, and passing other arguments without an explicit keyword will result in an error or misinterpretation.\n",
      "  warnings.warn(\n",
      "C:\\Users\\Sumit\\anaconda3\\lib\\site-packages\\seaborn\\_decorators.py:36: FutureWarning: Pass the following variable as a keyword arg: x. From version 0.12, the only valid positional argument will be `data`, and passing other arguments without an explicit keyword will result in an error or misinterpretation.\n",
      "  warnings.warn(\n",
      "C:\\Users\\Sumit\\anaconda3\\lib\\site-packages\\seaborn\\_decorators.py:36: FutureWarning: Pass the following variable as a keyword arg: x. From version 0.12, the only valid positional argument will be `data`, and passing other arguments without an explicit keyword will result in an error or misinterpretation.\n",
      "  warnings.warn(\n",
      "C:\\Users\\Sumit\\anaconda3\\lib\\site-packages\\seaborn\\_decorators.py:36: FutureWarning: Pass the following variable as a keyword arg: x. From version 0.12, the only valid positional argument will be `data`, and passing other arguments without an explicit keyword will result in an error or misinterpretation.\n",
      "  warnings.warn(\n",
      "C:\\Users\\Sumit\\anaconda3\\lib\\site-packages\\seaborn\\_decorators.py:36: FutureWarning: Pass the following variable as a keyword arg: x. From version 0.12, the only valid positional argument will be `data`, and passing other arguments without an explicit keyword will result in an error or misinterpretation.\n",
      "  warnings.warn(\n"
     ]
    },
    {
     "data": {
      "image/png": "[encoded data removed]",
      "text/plain": [
       "<Figure size 1080x2520 with 6 Axes>"
      ]
     },
     "metadata": {
      "needs_background": "light"
     },
     "output_type": "display_data"
    }
   ],
   "source": [
    "fig, axes = plt.subplots(nrows=6,ncols=1)\n",
    "fig.set_size_inches(15,35)\n",
    "sns.countplot(df['Location_type'], ax=axes[0])\n",
    "a.set_title(\"Location_type Count\",fontsize=15)\n",
    "\n",
    "a = sns.countplot(df['WH_capacity_size'], ax=axes[1])\n",
    "a.set_title(\"WH_capacity_size Count\",fontsize=15)\n",
    "\n",
    "a = sns.countplot(df['zone'] , ax=axes[2])\n",
    "a.set_title('zone Count',fontsize=15)\n",
    "\n",
    "a = sns.countplot(df['WH_regional_zone'] , ax=axes[3])\n",
    "a.set_title(\"WH_regional_zone Count\",fontsize=15)\n",
    "\n",
    "a = sns.countplot(df['wh_owner_type'], ax=axes[4])\n",
    "a.set_title(\"wh_owner_type Count\",fontsize=15)\n",
    "\n",
    "a = sns.countplot(df['flood_impacted'] , ax=axes[5])\n",
    "a.set_title(\"flood_impacted Count\",fontsize=15)\n",
    "\n",
    "plt.show();"
   ]
  },
  {
   "cell_type": "code",
   "execution_count": 27,
   "id": "1960cefc",
   "metadata": {},
   "outputs": [
    {
     "data": {
      "text/plain": [
       "<AxesSubplot:>"
      ]
     },
     "execution_count": 27,
     "metadata": {},
     "output_type": "execute_result"
    },
    {
     "data": {
      "image/png": "[encoded data removed]",
      "text/plain": [
       "<Figure size 1440x1080 with 2 Axes>"
      ]
     },
     "metadata": {
      "needs_background": "light"
     },
     "output_type": "display_data"
    }
   ],
   "source": [
    "plt.figure(figsize=(20,15))\n",
    "sns.heatmap(df.corr(),annot=True)"
   ]
  },
  {
   "cell_type": "code",
   "execution_count": 28,
   "id": "449a0bbc",
   "metadata": {},
   "outputs": [],
   "source": [
    "df = pd.get_dummies(df, columns=['Location_type','WH_capacity_size','zone', 'WH_regional_zone', 'wh_owner_type','approved_wh_govt_certificate'], drop_first=True)"
   ]
  },
  {
   "cell_type": "code",
   "execution_count": 29,
   "id": "8cb91986",
   "metadata": {
    "scrolled": true
   },
   "outputs": [
    {
     "name": "stdout",
     "output_type": "stream",
     "text": [
      "<class 'pandas.core.frame.DataFrame'>\n",
      "RangeIndex: 25000 entries, 0 to 24999\n",
      "Data columns (total 32 columns):\n",
      " #   Column                           Non-Null Count  Dtype  \n",
      "---  ------                           --------------  -----  \n",
      " 0   num_refill_req_l3m               25000 non-null  int64  \n",
      " 1   transport_issue_l1y              25000 non-null  int64  \n",
      " 2   Competitor_in_mkt                25000 non-null  int64  \n",
      " 3   retail_shop_num                  25000 non-null  int64  \n",
      " 4   distributor_num                  25000 non-null  int64  \n",
      " 5   flood_impacted                   25000 non-null  int64  \n",
      " 6   flood_proof                      25000 non-null  int64  \n",
      " 7   electric_supply                  25000 non-null  int64  \n",
      " 8   dist_from_hub                    25000 non-null  int64  \n",
      " 9   workers_num                      25000 non-null  float64\n",
      " 10  storage_issue_reported_l3m       25000 non-null  int64  \n",
      " 11  temp_reg_mach                    25000 non-null  int64  \n",
      " 12  wh_breakdown_l3m                 25000 non-null  int64  \n",
      " 13  govt_check_l3m                   25000 non-null  int64  \n",
      " 14  product_wg_ton                   25000 non-null  int64  \n",
      " 15  Location_type_Urban              25000 non-null  uint8  \n",
      " 16  WH_capacity_size_Mid             25000 non-null  uint8  \n",
      " 17  WH_capacity_size_Small           25000 non-null  uint8  \n",
      " 18  zone_North                       25000 non-null  uint8  \n",
      " 19  zone_South                       25000 non-null  uint8  \n",
      " 20  zone_West                        25000 non-null  uint8  \n",
      " 21  WH_regional_zone_Zone 2          25000 non-null  uint8  \n",
      " 22  WH_regional_zone_Zone 3          25000 non-null  uint8  \n",
      " 23  WH_regional_zone_Zone 4          25000 non-null  uint8  \n",
      " 24  WH_regional_zone_Zone 5          25000 non-null  uint8  \n",
      " 25  WH_regional_zone_Zone 6          25000 non-null  uint8  \n",
      " 26  wh_owner_type_Rented             25000 non-null  uint8  \n",
      " 27  approved_wh_govt_certificate_A   25000 non-null  uint8  \n",
      " 28  approved_wh_govt_certificate_A+  25000 non-null  uint8  \n",
      " 29  approved_wh_govt_certificate_B   25000 non-null  uint8  \n",
      " 30  approved_wh_govt_certificate_B+  25000 non-null  uint8  \n",
      " 31  approved_wh_govt_certificate_C   25000 non-null  uint8  \n",
      "dtypes: float64(1), int64(14), uint8(17)\n",
      "memory usage: 3.3 MB\n"
     ]
    }
   ],
   "source": [
    "df.info()"
   ]
  },
  {
   "cell_type": "code",
   "execution_count": 30,
   "id": "dfef8034",
   "metadata": {},
   "outputs": [],
   "source": [
    "df.columns = df.columns.str.replace(' ', '_')"
   ]
  },
  {
   "cell_type": "code",
   "execution_count": 31,
   "id": "e0c6faf5",
   "metadata": {},
   "outputs": [
    {
     "name": "stderr",
     "output_type": "stream",
     "text": [
      "C:\\Users\\Sumit\\AppData\\Local\\Temp/ipykernel_11700/1664746658.py:1: FutureWarning: The default value of regex will change from True to False in a future version. In addition, single character regular expressions will *not* be treated as literal strings when regex=True.\n",
      "  df.columns = df.columns.str.replace('+', '_positive')\n"
     ]
    }
   ],
   "source": [
    "df.columns = df.columns.str.replace('+', '_positive')"
   ]
  },
  {
   "cell_type": "code",
   "execution_count": 32,
   "id": "88184631",
   "metadata": {},
   "outputs": [
    {
     "data": {
      "text/html": [
       "<div>\n",
       "<style scoped>\n",
       "    .dataframe tbody tr th:only-of-type {\n",
       "        vertical-align: middle;\n",
       "    }\n",
       "\n",
       "    .dataframe tbody tr th {\n",
       "        vertical-align: top;\n",
       "    }\n",
       "\n",
       "    .dataframe thead th {\n",
       "        text-align: right;\n",
       "    }\n",
       "</style>\n",
       "<table border=\"1\" class=\"dataframe\">\n",
       "  <thead>\n",
       "    <tr style=\"text-align: right;\">\n",
       "      <th></th>\n",
       "      <th>num_refill_req_l3m</th>\n",
       "      <th>transport_issue_l1y</th>\n",
       "      <th>Competitor_in_mkt</th>\n",
       "      <th>retail_shop_num</th>\n",
       "      <th>distributor_num</th>\n",
       "      <th>flood_impacted</th>\n",
       "      <th>flood_proof</th>\n",
       "      <th>electric_supply</th>\n",
       "      <th>dist_from_hub</th>\n",
       "      <th>workers_num</th>\n",
       "      <th>storage_issue_reported_l3m</th>\n",
       "      <th>temp_reg_mach</th>\n",
       "      <th>wh_breakdown_l3m</th>\n",
       "      <th>govt_check_l3m</th>\n",
       "      <th>product_wg_ton</th>\n",
       "      <th>Location_type_Urban</th>\n",
       "      <th>WH_capacity_size_Mid</th>\n",
       "      <th>WH_capacity_size_Small</th>\n",
       "      <th>zone_North</th>\n",
       "      <th>zone_South</th>\n",
       "      <th>zone_West</th>\n",
       "      <th>WH_regional_zone_Zone_2</th>\n",
       "      <th>WH_regional_zone_Zone_3</th>\n",
       "      <th>WH_regional_zone_Zone_4</th>\n",
       "      <th>WH_regional_zone_Zone_5</th>\n",
       "      <th>WH_regional_zone_Zone_6</th>\n",
       "      <th>wh_owner_type_Rented</th>\n",
       "      <th>approved_wh_govt_certificate_A</th>\n",
       "      <th>approved_wh_govt_certificate_A_positive</th>\n",
       "      <th>approved_wh_govt_certificate_B</th>\n",
       "      <th>approved_wh_govt_certificate_B_positive</th>\n",
       "      <th>approved_wh_govt_certificate_C</th>\n",
       "    </tr>\n",
       "  </thead>\n",
       "  <tbody>\n",
       "    <tr>\n",
       "      <th>0</th>\n",
       "      <td>3</td>\n",
       "      <td>1</td>\n",
       "      <td>2</td>\n",
       "      <td>4651</td>\n",
       "      <td>24</td>\n",
       "      <td>0</td>\n",
       "      <td>1</td>\n",
       "      <td>1</td>\n",
       "      <td>91</td>\n",
       "      <td>29.0</td>\n",
       "      <td>13</td>\n",
       "      <td>0</td>\n",
       "      <td>5</td>\n",
       "      <td>15</td>\n",
       "      <td>17115</td>\n",
       "      <td>1</td>\n",
       "      <td>0</td>\n",
       "      <td>1</td>\n",
       "      <td>0</td>\n",
       "      <td>0</td>\n",
       "      <td>1</td>\n",
       "      <td>0</td>\n",
       "      <td>0</td>\n",
       "      <td>0</td>\n",
       "      <td>0</td>\n",
       "      <td>1</td>\n",
       "      <td>1</td>\n",
       "      <td>1</td>\n",
       "      <td>0</td>\n",
       "      <td>0</td>\n",
       "      <td>0</td>\n",
       "      <td>0</td>\n",
       "    </tr>\n",
       "    <tr>\n",
       "      <th>1</th>\n",
       "      <td>0</td>\n",
       "      <td>0</td>\n",
       "      <td>4</td>\n",
       "      <td>6217</td>\n",
       "      <td>47</td>\n",
       "      <td>0</td>\n",
       "      <td>0</td>\n",
       "      <td>1</td>\n",
       "      <td>210</td>\n",
       "      <td>31.0</td>\n",
       "      <td>4</td>\n",
       "      <td>0</td>\n",
       "      <td>3</td>\n",
       "      <td>17</td>\n",
       "      <td>5074</td>\n",
       "      <td>0</td>\n",
       "      <td>0</td>\n",
       "      <td>0</td>\n",
       "      <td>1</td>\n",
       "      <td>0</td>\n",
       "      <td>0</td>\n",
       "      <td>0</td>\n",
       "      <td>0</td>\n",
       "      <td>0</td>\n",
       "      <td>1</td>\n",
       "      <td>0</td>\n",
       "      <td>0</td>\n",
       "      <td>1</td>\n",
       "      <td>0</td>\n",
       "      <td>0</td>\n",
       "      <td>0</td>\n",
       "      <td>0</td>\n",
       "    </tr>\n",
       "    <tr>\n",
       "      <th>2</th>\n",
       "      <td>1</td>\n",
       "      <td>0</td>\n",
       "      <td>4</td>\n",
       "      <td>4306</td>\n",
       "      <td>64</td>\n",
       "      <td>0</td>\n",
       "      <td>0</td>\n",
       "      <td>0</td>\n",
       "      <td>161</td>\n",
       "      <td>37.0</td>\n",
       "      <td>17</td>\n",
       "      <td>0</td>\n",
       "      <td>6</td>\n",
       "      <td>22</td>\n",
       "      <td>23137</td>\n",
       "      <td>0</td>\n",
       "      <td>1</td>\n",
       "      <td>0</td>\n",
       "      <td>0</td>\n",
       "      <td>1</td>\n",
       "      <td>0</td>\n",
       "      <td>1</td>\n",
       "      <td>0</td>\n",
       "      <td>0</td>\n",
       "      <td>0</td>\n",
       "      <td>0</td>\n",
       "      <td>0</td>\n",
       "      <td>1</td>\n",
       "      <td>0</td>\n",
       "      <td>0</td>\n",
       "      <td>0</td>\n",
       "      <td>0</td>\n",
       "    </tr>\n",
       "    <tr>\n",
       "      <th>3</th>\n",
       "      <td>7</td>\n",
       "      <td>4</td>\n",
       "      <td>2</td>\n",
       "      <td>6000</td>\n",
       "      <td>50</td>\n",
       "      <td>0</td>\n",
       "      <td>0</td>\n",
       "      <td>0</td>\n",
       "      <td>103</td>\n",
       "      <td>21.0</td>\n",
       "      <td>17</td>\n",
       "      <td>1</td>\n",
       "      <td>3</td>\n",
       "      <td>27</td>\n",
       "      <td>22115</td>\n",
       "      <td>0</td>\n",
       "      <td>1</td>\n",
       "      <td>0</td>\n",
       "      <td>1</td>\n",
       "      <td>0</td>\n",
       "      <td>0</td>\n",
       "      <td>0</td>\n",
       "      <td>1</td>\n",
       "      <td>0</td>\n",
       "      <td>0</td>\n",
       "      <td>0</td>\n",
       "      <td>1</td>\n",
       "      <td>0</td>\n",
       "      <td>1</td>\n",
       "      <td>0</td>\n",
       "      <td>0</td>\n",
       "      <td>0</td>\n",
       "    </tr>\n",
       "    <tr>\n",
       "      <th>4</th>\n",
       "      <td>3</td>\n",
       "      <td>1</td>\n",
       "      <td>2</td>\n",
       "      <td>4740</td>\n",
       "      <td>42</td>\n",
       "      <td>1</td>\n",
       "      <td>0</td>\n",
       "      <td>1</td>\n",
       "      <td>112</td>\n",
       "      <td>25.0</td>\n",
       "      <td>18</td>\n",
       "      <td>0</td>\n",
       "      <td>6</td>\n",
       "      <td>24</td>\n",
       "      <td>24071</td>\n",
       "      <td>0</td>\n",
       "      <td>0</td>\n",
       "      <td>0</td>\n",
       "      <td>1</td>\n",
       "      <td>0</td>\n",
       "      <td>0</td>\n",
       "      <td>0</td>\n",
       "      <td>0</td>\n",
       "      <td>0</td>\n",
       "      <td>1</td>\n",
       "      <td>0</td>\n",
       "      <td>0</td>\n",
       "      <td>0</td>\n",
       "      <td>0</td>\n",
       "      <td>0</td>\n",
       "      <td>0</td>\n",
       "      <td>1</td>\n",
       "    </tr>\n",
       "  </tbody>\n",
       "</table>\n",
       "</div>"
      ],
      "text/plain": [
       "   num_refill_req_l3m  transport_issue_l1y  Competitor_in_mkt  \\\n",
       "0                   3                    1                  2   \n",
       "1                   0                    0                  4   \n",
       "2                   1                    0                  4   \n",
       "3                   7                    4                  2   \n",
       "4                   3                    1                  2   \n",
       "\n",
       "   retail_shop_num  distributor_num  flood_impacted  flood_proof  \\\n",
       "0             4651               24               0            1   \n",
       "1             6217               47               0            0   \n",
       "2             4306               64               0            0   \n",
       "3             6000               50               0            0   \n",
       "4             4740               42               1            0   \n",
       "\n",
       "   electric_supply  dist_from_hub  workers_num  storage_issue_reported_l3m  \\\n",
       "0                1             91         29.0                          13   \n",
       "1                1            210         31.0                           4   \n",
       "2                0            161         37.0                          17   \n",
       "3                0            103         21.0                          17   \n",
       "4                1            112         25.0                          18   \n",
       "\n",
       "   temp_reg_mach  wh_breakdown_l3m  govt_check_l3m  product_wg_ton  \\\n",
       "0              0                 5              15           17115   \n",
       "1              0                 3              17            5074   \n",
       "2              0                 6              22           23137   \n",
       "3              1                 3              27           22115   \n",
       "4              0                 6              24           24071   \n",
       "\n",
       "   Location_type_Urban  WH_capacity_size_Mid  WH_capacity_size_Small  \\\n",
       "0                    1                     0                       1   \n",
       "1                    0                     0                       0   \n",
       "2                    0                     1                       0   \n",
       "3                    0                     1                       0   \n",
       "4                    0                     0                       0   \n",
       "\n",
       "   zone_North  zone_South  zone_West  WH_regional_zone_Zone_2  \\\n",
       "0           0           0          1                        0   \n",
       "1           1           0          0                        0   \n",
       "2           0           1          0                        1   \n",
       "3           1           0          0                        0   \n",
       "4           1           0          0                        0   \n",
       "\n",
       "   WH_regional_zone_Zone_3  WH_regional_zone_Zone_4  WH_regional_zone_Zone_5  \\\n",
       "0                        0                        0                        0   \n",
       "1                        0                        0                        1   \n",
       "2                        0                        0                        0   \n",
       "3                        1                        0                        0   \n",
       "4                        0                        0                        1   \n",
       "\n",
       "   WH_regional_zone_Zone_6  wh_owner_type_Rented  \\\n",
       "0                        1                     1   \n",
       "1                        0                     0   \n",
       "2                        0                     0   \n",
       "3                        0                     1   \n",
       "4                        0                     0   \n",
       "\n",
       "   approved_wh_govt_certificate_A  approved_wh_govt_certificate_A_positive  \\\n",
       "0                               1                                        0   \n",
       "1                               1                                        0   \n",
       "2                               1                                        0   \n",
       "3                               0                                        1   \n",
       "4                               0                                        0   \n",
       "\n",
       "   approved_wh_govt_certificate_B  approved_wh_govt_certificate_B_positive  \\\n",
       "0                               0                                        0   \n",
       "1                               0                                        0   \n",
       "2                               0                                        0   \n",
       "3                               0                                        0   \n",
       "4                               0                                        0   \n",
       "\n",
       "   approved_wh_govt_certificate_C  \n",
       "0                               0  \n",
       "1                               0  \n",
       "2                               0  \n",
       "3                               0  \n",
       "4                               1  "
      ]
     },
     "execution_count": 32,
     "metadata": {},
     "output_type": "execute_result"
    }
   ],
   "source": [
    "df.head()"
   ]
  },
  {
   "cell_type": "code",
   "execution_count": 33,
   "id": "38505c93",
   "metadata": {},
   "outputs": [],
   "source": [
    "# Copy all the predictor variables into X dataframe\n",
    "X = df.drop('product_wg_ton', axis=1)\n",
    "\n",
    "# Copy target into the y dataframe. \n",
    "y = df[['product_wg_ton']]"
   ]
  },
  {
   "cell_type": "code",
   "execution_count": 34,
   "id": "8cac6055",
   "metadata": {},
   "outputs": [],
   "source": [
    "# Split X and y into training and test set in 75:25 ratio\n",
    "from sklearn.model_selection import train_test_split\n",
    "X_train, X_test, y_train, y_test = train_test_split(X, y, test_size=0.25 , random_state=1)"
   ]
  },
  {
   "cell_type": "code",
   "execution_count": 35,
   "id": "1a28a3a3",
   "metadata": {},
   "outputs": [
    {
     "data": {
      "text/html": [
       "<div>\n",
       "<style scoped>\n",
       "    .dataframe tbody tr th:only-of-type {\n",
       "        vertical-align: middle;\n",
       "    }\n",
       "\n",
       "    .dataframe tbody tr th {\n",
       "        vertical-align: top;\n",
       "    }\n",
       "\n",
       "    .dataframe thead th {\n",
       "        text-align: right;\n",
       "    }\n",
       "</style>\n",
       "<table border=\"1\" class=\"dataframe\">\n",
       "  <thead>\n",
       "    <tr style=\"text-align: right;\">\n",
       "      <th></th>\n",
       "      <th>num_refill_req_l3m</th>\n",
       "      <th>transport_issue_l1y</th>\n",
       "      <th>Competitor_in_mkt</th>\n",
       "      <th>retail_shop_num</th>\n",
       "      <th>distributor_num</th>\n",
       "      <th>flood_impacted</th>\n",
       "      <th>flood_proof</th>\n",
       "      <th>electric_supply</th>\n",
       "      <th>dist_from_hub</th>\n",
       "      <th>workers_num</th>\n",
       "      <th>storage_issue_reported_l3m</th>\n",
       "      <th>temp_reg_mach</th>\n",
       "      <th>wh_breakdown_l3m</th>\n",
       "      <th>govt_check_l3m</th>\n",
       "      <th>Location_type_Urban</th>\n",
       "      <th>WH_capacity_size_Mid</th>\n",
       "      <th>WH_capacity_size_Small</th>\n",
       "      <th>zone_North</th>\n",
       "      <th>zone_South</th>\n",
       "      <th>zone_West</th>\n",
       "      <th>WH_regional_zone_Zone_2</th>\n",
       "      <th>WH_regional_zone_Zone_3</th>\n",
       "      <th>WH_regional_zone_Zone_4</th>\n",
       "      <th>WH_regional_zone_Zone_5</th>\n",
       "      <th>WH_regional_zone_Zone_6</th>\n",
       "      <th>wh_owner_type_Rented</th>\n",
       "      <th>approved_wh_govt_certificate_A</th>\n",
       "      <th>approved_wh_govt_certificate_A_positive</th>\n",
       "      <th>approved_wh_govt_certificate_B</th>\n",
       "      <th>approved_wh_govt_certificate_B_positive</th>\n",
       "      <th>approved_wh_govt_certificate_C</th>\n",
       "    </tr>\n",
       "  </thead>\n",
       "  <tbody>\n",
       "    <tr>\n",
       "      <th>0</th>\n",
       "      <td>3</td>\n",
       "      <td>1</td>\n",
       "      <td>2</td>\n",
       "      <td>4651</td>\n",
       "      <td>24</td>\n",
       "      <td>0</td>\n",
       "      <td>1</td>\n",
       "      <td>1</td>\n",
       "      <td>91</td>\n",
       "      <td>29.0</td>\n",
       "      <td>13</td>\n",
       "      <td>0</td>\n",
       "      <td>5</td>\n",
       "      <td>15</td>\n",
       "      <td>1</td>\n",
       "      <td>0</td>\n",
       "      <td>1</td>\n",
       "      <td>0</td>\n",
       "      <td>0</td>\n",
       "      <td>1</td>\n",
       "      <td>0</td>\n",
       "      <td>0</td>\n",
       "      <td>0</td>\n",
       "      <td>0</td>\n",
       "      <td>1</td>\n",
       "      <td>1</td>\n",
       "      <td>1</td>\n",
       "      <td>0</td>\n",
       "      <td>0</td>\n",
       "      <td>0</td>\n",
       "      <td>0</td>\n",
       "    </tr>\n",
       "    <tr>\n",
       "      <th>1</th>\n",
       "      <td>0</td>\n",
       "      <td>0</td>\n",
       "      <td>4</td>\n",
       "      <td>6217</td>\n",
       "      <td>47</td>\n",
       "      <td>0</td>\n",
       "      <td>0</td>\n",
       "      <td>1</td>\n",
       "      <td>210</td>\n",
       "      <td>31.0</td>\n",
       "      <td>4</td>\n",
       "      <td>0</td>\n",
       "      <td>3</td>\n",
       "      <td>17</td>\n",
       "      <td>0</td>\n",
       "      <td>0</td>\n",
       "      <td>0</td>\n",
       "      <td>1</td>\n",
       "      <td>0</td>\n",
       "      <td>0</td>\n",
       "      <td>0</td>\n",
       "      <td>0</td>\n",
       "      <td>0</td>\n",
       "      <td>1</td>\n",
       "      <td>0</td>\n",
       "      <td>0</td>\n",
       "      <td>1</td>\n",
       "      <td>0</td>\n",
       "      <td>0</td>\n",
       "      <td>0</td>\n",
       "      <td>0</td>\n",
       "    </tr>\n",
       "    <tr>\n",
       "      <th>2</th>\n",
       "      <td>1</td>\n",
       "      <td>0</td>\n",
       "      <td>4</td>\n",
       "      <td>4306</td>\n",
       "      <td>64</td>\n",
       "      <td>0</td>\n",
       "      <td>0</td>\n",
       "      <td>0</td>\n",
       "      <td>161</td>\n",
       "      <td>37.0</td>\n",
       "      <td>17</td>\n",
       "      <td>0</td>\n",
       "      <td>6</td>\n",
       "      <td>22</td>\n",
       "      <td>0</td>\n",
       "      <td>1</td>\n",
       "      <td>0</td>\n",
       "      <td>0</td>\n",
       "      <td>1</td>\n",
       "      <td>0</td>\n",
       "      <td>1</td>\n",
       "      <td>0</td>\n",
       "      <td>0</td>\n",
       "      <td>0</td>\n",
       "      <td>0</td>\n",
       "      <td>0</td>\n",
       "      <td>1</td>\n",
       "      <td>0</td>\n",
       "      <td>0</td>\n",
       "      <td>0</td>\n",
       "      <td>0</td>\n",
       "    </tr>\n",
       "    <tr>\n",
       "      <th>3</th>\n",
       "      <td>7</td>\n",
       "      <td>4</td>\n",
       "      <td>2</td>\n",
       "      <td>6000</td>\n",
       "      <td>50</td>\n",
       "      <td>0</td>\n",
       "      <td>0</td>\n",
       "      <td>0</td>\n",
       "      <td>103</td>\n",
       "      <td>21.0</td>\n",
       "      <td>17</td>\n",
       "      <td>1</td>\n",
       "      <td>3</td>\n",
       "      <td>27</td>\n",
       "      <td>0</td>\n",
       "      <td>1</td>\n",
       "      <td>0</td>\n",
       "      <td>1</td>\n",
       "      <td>0</td>\n",
       "      <td>0</td>\n",
       "      <td>0</td>\n",
       "      <td>1</td>\n",
       "      <td>0</td>\n",
       "      <td>0</td>\n",
       "      <td>0</td>\n",
       "      <td>1</td>\n",
       "      <td>0</td>\n",
       "      <td>1</td>\n",
       "      <td>0</td>\n",
       "      <td>0</td>\n",
       "      <td>0</td>\n",
       "    </tr>\n",
       "    <tr>\n",
       "      <th>4</th>\n",
       "      <td>3</td>\n",
       "      <td>1</td>\n",
       "      <td>2</td>\n",
       "      <td>4740</td>\n",
       "      <td>42</td>\n",
       "      <td>1</td>\n",
       "      <td>0</td>\n",
       "      <td>1</td>\n",
       "      <td>112</td>\n",
       "      <td>25.0</td>\n",
       "      <td>18</td>\n",
       "      <td>0</td>\n",
       "      <td>6</td>\n",
       "      <td>24</td>\n",
       "      <td>0</td>\n",
       "      <td>0</td>\n",
       "      <td>0</td>\n",
       "      <td>1</td>\n",
       "      <td>0</td>\n",
       "      <td>0</td>\n",
       "      <td>0</td>\n",
       "      <td>0</td>\n",
       "      <td>0</td>\n",
       "      <td>1</td>\n",
       "      <td>0</td>\n",
       "      <td>0</td>\n",
       "      <td>0</td>\n",
       "      <td>0</td>\n",
       "      <td>0</td>\n",
       "      <td>0</td>\n",
       "      <td>1</td>\n",
       "    </tr>\n",
       "  </tbody>\n",
       "</table>\n",
       "</div>"
      ],
      "text/plain": [
       "   num_refill_req_l3m  transport_issue_l1y  Competitor_in_mkt  \\\n",
       "0                   3                    1                  2   \n",
       "1                   0                    0                  4   \n",
       "2                   1                    0                  4   \n",
       "3                   7                    4                  2   \n",
       "4                   3                    1                  2   \n",
       "\n",
       "   retail_shop_num  distributor_num  flood_impacted  flood_proof  \\\n",
       "0             4651               24               0            1   \n",
       "1             6217               47               0            0   \n",
       "2             4306               64               0            0   \n",
       "3             6000               50               0            0   \n",
       "4             4740               42               1            0   \n",
       "\n",
       "   electric_supply  dist_from_hub  workers_num  storage_issue_reported_l3m  \\\n",
       "0                1             91         29.0                          13   \n",
       "1                1            210         31.0                           4   \n",
       "2                0            161         37.0                          17   \n",
       "3                0            103         21.0                          17   \n",
       "4                1            112         25.0                          18   \n",
       "\n",
       "   temp_reg_mach  wh_breakdown_l3m  govt_check_l3m  Location_type_Urban  \\\n",
       "0              0                 5              15                    1   \n",
       "1              0                 3              17                    0   \n",
       "2              0                 6              22                    0   \n",
       "3              1                 3              27                    0   \n",
       "4              0                 6              24                    0   \n",
       "\n",
       "   WH_capacity_size_Mid  WH_capacity_size_Small  zone_North  zone_South  \\\n",
       "0                     0                       1           0           0   \n",
       "1                     0                       0           1           0   \n",
       "2                     1                       0           0           1   \n",
       "3                     1                       0           1           0   \n",
       "4                     0                       0           1           0   \n",
       "\n",
       "   zone_West  WH_regional_zone_Zone_2  WH_regional_zone_Zone_3  \\\n",
       "0          1                        0                        0   \n",
       "1          0                        0                        0   \n",
       "2          0                        1                        0   \n",
       "3          0                        0                        1   \n",
       "4          0                        0                        0   \n",
       "\n",
       "   WH_regional_zone_Zone_4  WH_regional_zone_Zone_5  WH_regional_zone_Zone_6  \\\n",
       "0                        0                        0                        1   \n",
       "1                        0                        1                        0   \n",
       "2                        0                        0                        0   \n",
       "3                        0                        0                        0   \n",
       "4                        0                        1                        0   \n",
       "\n",
       "   wh_owner_type_Rented  approved_wh_govt_certificate_A  \\\n",
       "0                     1                               1   \n",
       "1                     0                               1   \n",
       "2                     0                               1   \n",
       "3                     1                               0   \n",
       "4                     0                               0   \n",
       "\n",
       "   approved_wh_govt_certificate_A_positive  approved_wh_govt_certificate_B  \\\n",
       "0                                        0                               0   \n",
       "1                                        0                               0   \n",
       "2                                        0                               0   \n",
       "3                                        1                               0   \n",
       "4                                        0                               0   \n",
       "\n",
       "   approved_wh_govt_certificate_B_positive  approved_wh_govt_certificate_C  \n",
       "0                                        0                               0  \n",
       "1                                        0                               0  \n",
       "2                                        0                               0  \n",
       "3                                        0                               0  \n",
       "4                                        0                               1  "
      ]
     },
     "execution_count": 35,
     "metadata": {},
     "output_type": "execute_result"
    }
   ],
   "source": [
    "X.head()"
   ]
  },
  {
   "cell_type": "code",
   "execution_count": 37,
   "id": "f45c2b17",
   "metadata": {},
   "outputs": [],
   "source": [
    "from sklearn.linear_model import LinearRegression\n",
    "from sklearn import metrics"
   ]
  },
  {
   "cell_type": "code",
   "execution_count": 38,
   "id": "b75dd11c",
   "metadata": {},
   "outputs": [],
   "source": [
    "# invoke the LinearRegression function and find the bestfit model on training data\n",
    "regression_m=LinearRegression()\n",
    "regression_m=regression_m.fit(X_train,y_train)"
   ]
  },
  {
   "cell_type": "code",
   "execution_count": 39,
   "id": "bd14f828",
   "metadata": {
    "scrolled": true
   },
   "outputs": [
    {
     "data": {
      "text/plain": [
       "array([[ 1.45566859e+01, -2.48313616e+02, -5.36350734e+00,\n",
       "        -2.60460929e-03,  7.82950667e-01,  7.19021205e+00,\n",
       "        -9.20167774e-01, -1.61208436e+01,  9.44057752e-02,\n",
       "         1.50274359e+00,  1.28569927e+03,  6.31694977e+02,\n",
       "        -4.08023913e+01,  1.25373909e+00, -4.25848506e+01,\n",
       "        -7.06400838e+00,  3.30068701e+01,  1.00491206e+01,\n",
       "         1.51846792e+00,  3.94139497e+01,  1.50201586e+01,\n",
       "        -3.39000784e+01,  1.18159114e+01, -1.05487282e+01,\n",
       "         6.19317497e-01,  2.83921752e+01, -4.74409721e+03,\n",
       "        -4.61565472e+03, -6.78891690e+03, -6.83387063e+03,\n",
       "        -5.00203225e+03]])"
      ]
     },
     "execution_count": 39,
     "metadata": {},
     "output_type": "execute_result"
    }
   ],
   "source": [
    "regression_m.coef_"
   ]
  },
  {
   "cell_type": "code",
   "execution_count": 40,
   "id": "29ff85b1",
   "metadata": {},
   "outputs": [
    {
     "data": {
      "text/plain": [
       "Index(['num_refill_req_l3m', 'transport_issue_l1y', 'Competitor_in_mkt',\n",
       "       'retail_shop_num', 'distributor_num', 'flood_impacted', 'flood_proof',\n",
       "       'electric_supply', 'dist_from_hub', 'workers_num',\n",
       "       'storage_issue_reported_l3m', 'temp_reg_mach', 'wh_breakdown_l3m',\n",
       "       'govt_check_l3m', 'Location_type_Urban', 'WH_capacity_size_Mid',\n",
       "       'WH_capacity_size_Small', 'zone_North', 'zone_South', 'zone_West',\n",
       "       'WH_regional_zone_Zone_2', 'WH_regional_zone_Zone_3',\n",
       "       'WH_regional_zone_Zone_4', 'WH_regional_zone_Zone_5',\n",
       "       'WH_regional_zone_Zone_6', 'wh_owner_type_Rented',\n",
       "       'approved_wh_govt_certificate_A',\n",
       "       'approved_wh_govt_certificate_A_positive',\n",
       "       'approved_wh_govt_certificate_B',\n",
       "       'approved_wh_govt_certificate_B_positive',\n",
       "       'approved_wh_govt_certificate_C'],\n",
       "      dtype='object')"
      ]
     },
     "execution_count": 40,
     "metadata": {},
     "output_type": "execute_result"
    }
   ],
   "source": [
    "X_train.columns"
   ]
  },
  {
   "cell_type": "code",
   "execution_count": 41,
   "id": "7344cac4",
   "metadata": {},
   "outputs": [
    {
     "data": {
      "text/plain": [
       "0.9901101110050522"
      ]
     },
     "execution_count": 41,
     "metadata": {},
     "output_type": "execute_result"
    }
   ],
   "source": [
    "# R square on training data\n",
    "regression_m.score(X_train, y_train)"
   ]
  },
  {
   "cell_type": "code",
   "execution_count": 42,
   "id": "f1f25654",
   "metadata": {},
   "outputs": [
    {
     "data": {
      "text/plain": [
       "0.9905731926250413"
      ]
     },
     "execution_count": 42,
     "metadata": {},
     "output_type": "execute_result"
    }
   ],
   "source": [
    "# R square on testing data\n",
    "regression_m.score(X_test, y_test)"
   ]
  },
  {
   "cell_type": "code",
   "execution_count": 43,
   "id": "993c6014",
   "metadata": {},
   "outputs": [
    {
     "data": {
      "text/plain": [
       "1157.6691274890734"
      ]
     },
     "execution_count": 43,
     "metadata": {},
     "output_type": "execute_result"
    }
   ],
   "source": [
    "#RMSE on Training data\n",
    "predicted_train= regression_m.predict(X_train)\n",
    "np.sqrt(metrics.mean_squared_error(y_train, predicted_train))"
   ]
  },
  {
   "cell_type": "code",
   "execution_count": 44,
   "id": "3c7f33c6",
   "metadata": {},
   "outputs": [
    {
     "data": {
      "text/plain": [
       "1117.1073041976822"
      ]
     },
     "execution_count": 44,
     "metadata": {},
     "output_type": "execute_result"
    }
   ],
   "source": [
    "#RMSE on Testing data\n",
    "predicted_test= regression_m.predict(X_test)\n",
    "np.sqrt(metrics.mean_squared_error(y_test, predicted_test))"
   ]
  },
  {
   "cell_type": "code",
   "execution_count": 45,
   "id": "f3664140",
   "metadata": {
    "scrolled": false
   },
   "outputs": [
    {
     "name": "stdout",
     "output_type": "stream",
     "text": [
      "                            OLS Regression Results                            \n",
      "==============================================================================\n",
      "Dep. Variable:         product_wg_ton   R-squared:                       0.990\n",
      "Model:                            OLS   Adj. R-squared:                  0.990\n",
      "Method:                 Least Squares   F-statistic:                 6.247e+04\n",
      "Date:                Fri, 06 Jan 2023   Prob (F-statistic):               0.00\n",
      "Time:                        23:32:11   Log-Likelihood:            -1.5887e+05\n",
      "No. Observations:               18750   AIC:                         3.178e+05\n",
      "Df Residuals:                   18719   BIC:                         3.180e+05\n",
      "Df Model:                          30                                         \n",
      "Covariance Type:            nonrobust                                         \n",
      "===========================================================================================================\n",
      "                                              coef    std err          t      P>|t|      [0.025      0.975]\n",
      "-----------------------------------------------------------------------------------------------------------\n",
      "const                                    5471.2030    125.780     43.498      0.000    5224.662    5717.744\n",
      "num_refill_req_l3m                         14.5567      3.394      4.288      0.000       7.903      21.210\n",
      "transport_issue_l1y                      -248.3136      7.157    -34.693      0.000    -262.343    -234.284\n",
      "Competitor_in_mkt                          -5.3635      8.418     -0.637      0.524     -21.863      11.136\n",
      "retail_shop_num                            -0.0026      0.008     -0.316      0.752      -0.019       0.014\n",
      "distributor_num                             0.7830      0.527      1.487      0.137      -0.249       1.815\n",
      "flood_impacted                              7.1902     29.538      0.243      0.808     -50.707      65.088\n",
      "flood_proof                                -0.9202     37.959     -0.024      0.981     -75.323      73.482\n",
      "electric_supply                           -16.1208     19.441     -0.829      0.407     -54.228      21.986\n",
      "dist_from_hub                               0.0944      0.135      0.699      0.484      -0.170       0.359\n",
      "workers_num                                 1.5027      1.183      1.270      0.204      -0.817       3.822\n",
      "storage_issue_reported_l3m               1285.6993      1.054   1219.369      0.000    1283.633    1287.766\n",
      "temp_reg_mach                             631.6950     21.629     29.205      0.000     589.299     674.091\n",
      "wh_breakdown_l3m                          -40.8024      5.695     -7.164      0.000     -51.966     -29.639\n",
      "govt_check_l3m                              1.2537      1.134      1.105      0.269      -0.970       3.477\n",
      "Location_type_Urban                       -42.5849     31.052     -1.371      0.170    -103.450      18.280\n",
      "WH_capacity_size_Mid                       -7.0640     35.469     -0.199      0.842     -76.586      62.458\n",
      "WH_capacity_size_Small                     33.0069     34.254      0.964      0.335     -34.135     100.149\n",
      "zone_North                                 10.0491     69.209      0.145      0.885    -125.607     145.705\n",
      "zone_South                                  1.5185     70.908      0.021      0.983    -137.468     140.505\n",
      "zone_West                                  39.4139     68.235      0.578      0.564     -94.333     173.161\n",
      "WH_regional_zone_Zone_2                    15.0202     24.134      0.622      0.534     -32.285      62.325\n",
      "WH_regional_zone_Zone_3                   -33.9001     23.144     -1.465      0.143     -79.264      11.464\n",
      "WH_regional_zone_Zone_4                    11.8159     21.149      0.559      0.576     -29.638      53.270\n",
      "WH_regional_zone_Zone_5                   -10.5487     50.519     -0.209      0.835    -109.570      88.472\n",
      "WH_regional_zone_Zone_6                     0.6193     40.804      0.015      0.988     -79.361      80.600\n",
      "wh_owner_type_Rented                       28.3922     17.627      1.611      0.107      -6.159      62.943\n",
      "approved_wh_govt_certificate_A          -4744.0972     54.451    -87.125      0.000   -4850.827   -4637.367\n",
      "approved_wh_govt_certificate_A_positive -4615.6547     57.818    -79.831      0.000   -4728.982   -4502.327\n",
      "approved_wh_govt_certificate_B          -6788.9169     54.069   -125.561      0.000   -6894.897   -6682.937\n",
      "approved_wh_govt_certificate_B_positive -6833.8706     54.116   -126.281      0.000   -6939.943   -6727.798\n",
      "approved_wh_govt_certificate_C          -5002.0322     53.011    -94.359      0.000   -5105.938   -4898.126\n",
      "==============================================================================\n",
      "Omnibus:                     4019.643   Durbin-Watson:                   2.000\n",
      "Prob(Omnibus):                  0.000   Jarque-Bera (JB):            19656.716\n",
      "Skew:                           0.958   Prob(JB):                         0.00\n",
      "Kurtosis:                       7.636   Cond. No.                     1.02e+16\n",
      "==============================================================================\n",
      "\n",
      "Notes:\n",
      "[1] Standard Errors assume that the covariance matrix of the errors is correctly specified.\n",
      "[2] The smallest eigenvalue is 4.64e-21. This might indicate that there are\n",
      "strong multicollinearity problems or that the design matrix is singular.\n"
     ]
    }
   ],
   "source": [
    "import statsmodels.api as sm\n",
    "X = sm.add_constant(X_train)\n",
    "model = sm.OLS(y_train, X).fit()\n",
    "print(model.summary())"
   ]
  },
  {
   "cell_type": "code",
   "execution_count": 46,
   "id": "39b76334",
   "metadata": {},
   "outputs": [],
   "source": [
    "from scipy.stats import zscore\n",
    "X_train_scaled = X_train.apply(zscore)\n",
    "X_test_scaled = X_test.apply(zscore)\n",
    "y_train_scaled = y_train.apply(zscore)\n",
    "y_test_scaled = y_test.apply(zscore)"
   ]
  },
  {
   "cell_type": "code",
   "execution_count": 47,
   "id": "8e7af033",
   "metadata": {},
   "outputs": [
    {
     "data": {
      "text/html": [
       "<style>#sk-container-id-1 {color: black;background-color: white;}#sk-container-id-1 pre{padding: 0;}#sk-container-id-1 div.sk-toggleable {background-color: white;}#sk-container-id-1 label.sk-toggleable__label {cursor: pointer;display: block;width: 100%;margin-bottom: 0;padding: 0.3em;box-sizing: border-box;text-align: center;}#sk-container-id-1 label.sk-toggleable__label-arrow:before {content: \"▸\";float: left;margin-right: 0.25em;color: #696969;}#sk-container-id-1 label.sk-toggleable__label-arrow:hover:before {color: black;}#sk-container-id-1 div.sk-estimator:hover label.sk-toggleable__label-arrow:before {color: black;}#sk-container-id-1 div.sk-toggleable__content {max-height: 0;max-width: 0;overflow: hidden;text-align: left;background-color: #f0f8ff;}#sk-container-id-1 div.sk-toggleable__content pre {margin: 0.2em;color: black;border-radius: 0.25em;background-color: #f0f8ff;}#sk-container-id-1 input.sk-toggleable__control:checked~div.sk-toggleable__content {max-height: 200px;max-width: 100%;overflow: auto;}#sk-container-id-1 input.sk-toggleable__control:checked~label.sk-toggleable__label-arrow:before {content: \"▾\";}#sk-container-id-1 div.sk-estimator input.sk-toggleable__control:checked~label.sk-toggleable__label {background-color: #d4ebff;}#sk-container-id-1 div.sk-label input.sk-toggleable__control:checked~label.sk-toggleable__label {background-color: #d4ebff;}#sk-container-id-1 input.sk-hidden--visually {border: 0;clip: rect(1px 1px 1px 1px);clip: rect(1px, 1px, 1px, 1px);height: 1px;margin: -1px;overflow: hidden;padding: 0;position: absolute;width: 1px;}#sk-container-id-1 div.sk-estimator {font-family: monospace;background-color: #f0f8ff;border: 1px dotted black;border-radius: 0.25em;box-sizing: border-box;margin-bottom: 0.5em;}#sk-container-id-1 div.sk-estimator:hover {background-color: #d4ebff;}#sk-container-id-1 div.sk-parallel-item::after {content: \"\";width: 100%;border-bottom: 1px solid gray;flex-grow: 1;}#sk-container-id-1 div.sk-label:hover label.sk-toggleable__label {background-color: #d4ebff;}#sk-container-id-1 div.sk-serial::before {content: \"\";position: absolute;border-left: 1px solid gray;box-sizing: border-box;top: 0;bottom: 0;left: 50%;z-index: 0;}#sk-container-id-1 div.sk-serial {display: flex;flex-direction: column;align-items: center;background-color: white;padding-right: 0.2em;padding-left: 0.2em;position: relative;}#sk-container-id-1 div.sk-item {position: relative;z-index: 1;}#sk-container-id-1 div.sk-parallel {display: flex;align-items: stretch;justify-content: center;background-color: white;position: relative;}#sk-container-id-1 div.sk-item::before, #sk-container-id-1 div.sk-parallel-item::before {content: \"\";position: absolute;border-left: 1px solid gray;box-sizing: border-box;top: 0;bottom: 0;left: 50%;z-index: -1;}#sk-container-id-1 div.sk-parallel-item {display: flex;flex-direction: column;z-index: 1;position: relative;background-color: white;}#sk-container-id-1 div.sk-parallel-item:first-child::after {align-self: flex-end;width: 50%;}#sk-container-id-1 div.sk-parallel-item:last-child::after {align-self: flex-start;width: 50%;}#sk-container-id-1 div.sk-parallel-item:only-child::after {width: 0;}#sk-container-id-1 div.sk-dashed-wrapped {border: 1px dashed gray;margin: 0 0.4em 0.5em 0.4em;box-sizing: border-box;padding-bottom: 0.4em;background-color: white;}#sk-container-id-1 div.sk-label label {font-family: monospace;font-weight: bold;display: inline-block;line-height: 1.2em;}#sk-container-id-1 div.sk-label-container {text-align: center;}#sk-container-id-1 div.sk-container {/* jupyter's `normalize.less` sets `[hidden] { display: none; }` but bootstrap.min.css set `[hidden] { display: none !important; }` so we also need the `!important` here to be able to override the default hidden behavior on the sphinx rendered scikit-learn.org. See: https://github.com/scikit-learn/scikit-learn/issues/21755 */display: inline-block !important;position: relative;}#sk-container-id-1 div.sk-text-repr-fallback {display: none;}</style><div id=\"sk-container-id-1\" class=\"sk-top-container\"><div class=\"sk-text-repr-fallback\"><pre>LinearRegression()</pre><b>In a Jupyter environment, please rerun this cell to show the HTML representation or trust the notebook. <br />On GitHub, the HTML representation is unable to render, please try loading this page with nbviewer.org.</b></div><div class=\"sk-container\" hidden><div class=\"sk-item\"><div class=\"sk-estimator sk-toggleable\"><input class=\"sk-toggleable__control sk-hidden--visually\" id=\"sk-estimator-id-1\" type=\"checkbox\" checked><label for=\"sk-estimator-id-1\" class=\"sk-toggleable__label sk-toggleable__label-arrow\">LinearRegression</label><div class=\"sk-toggleable__content\"><pre>LinearRegression()</pre></div></div></div></div></div>"
      ],
      "text/plain": [
       "LinearRegression()"
      ]
     },
     "execution_count": 47,
     "metadata": {},
     "output_type": "execute_result"
    }
   ],
   "source": [
    "regression_model = LinearRegression()\n",
    "regression_model.fit(X_train_scaled, y_train_scaled)"
   ]
  },
  {
   "cell_type": "code",
   "execution_count": 48,
   "id": "fbdb0095",
   "metadata": {},
   "outputs": [
    {
     "name": "stdout",
     "output_type": "stream",
     "text": [
      "The coefficient for num_refill_req_l3m is 0.003242998629526418\n",
      "The coefficient for transport_issue_l1y is -0.02562689245529489\n",
      "The coefficient for Competitor_in_mkt is -0.0005408666133249226\n",
      "The coefficient for retail_shop_num is -0.0002428193726519865\n",
      "The coefficient for distributor_num is 0.0010827720600072813\n",
      "The coefficient for flood_impacted is 0.000169806831848479\n",
      "The coefficient for flood_proof is -2.5040530557584307e-05\n",
      "The coefficient for electric_supply is -0.0006556740956359815\n",
      "The coefficient for dist_from_hub is 0.0005151967222404847\n",
      "The coefficient for workers_num is 0.000984099610453655\n",
      "The coefficient for storage_issue_reported_l3m is 1.0147769727865912\n",
      "The coefficient for temp_reg_mach is 0.024994927825006848\n",
      "The coefficient for wh_breakdown_l3m is -0.005916495673233559\n",
      "The coefficient for govt_check_l3m is 0.0009436535706196505\n",
      "The coefficient for Location_type_Urban is -0.0010026556991513428\n",
      "The coefficient for WH_capacity_size_Mid is -73136237976.14452\n",
      "The coefficient for WH_capacity_size_Small is 0.0011084346731023615\n",
      "The coefficient for zone_North is 0.00044565837605468265\n",
      "The coefficient for zone_South is 8.241231249706622e-05\n",
      "The coefficient for zone_West is 0.0015995480706686917\n",
      "The coefficient for WH_regional_zone_Zone_2 is 48459078551.52144\n",
      "The coefficient for WH_regional_zone_Zone_3 is 47599279791.64801\n",
      "The coefficient for WH_regional_zone_Zone_4 is 55656393228.97463\n",
      "The coefficient for WH_regional_zone_Zone_5 is -0.00034961083037676077\n",
      "The coefficient for WH_regional_zone_Zone_6 is 1.706548767761255e-05\n",
      "The coefficient for wh_owner_type_Rented is 0.001210000964283888\n",
      "The coefficient for approved_wh_govt_certificate_A is -0.15945225341836816\n",
      "The coefficient for approved_wh_govt_certificate_A_positive is -0.14812869394733433\n",
      "The coefficient for approved_wh_govt_certificate_B is -0.23057298246565128\n",
      "The coefficient for approved_wh_govt_certificate_B_positive is -0.23223527131618615\n",
      "The coefficient for approved_wh_govt_certificate_C is -0.17767846227045034\n"
     ]
    }
   ],
   "source": [
    "for idx, col_name in enumerate(X_train.columns):\n",
    "    print('The coefficient for {} is {}'.format(col_name,regression_model.coef_[0][idx]))"
   ]
  },
  {
   "cell_type": "code",
   "execution_count": 49,
   "id": "825d7e41",
   "metadata": {},
   "outputs": [
    {
     "data": {
      "text/plain": [
       "0.9901100971691108"
      ]
     },
     "execution_count": 49,
     "metadata": {},
     "output_type": "execute_result"
    }
   ],
   "source": [
    "# R square on traing data\n",
    "regression_model.score(X_train_scaled, y_train_scaled)"
   ]
  },
  {
   "cell_type": "code",
   "execution_count": 50,
   "id": "25c74685",
   "metadata": {
    "scrolled": true
   },
   "outputs": [
    {
     "name": "stdout",
     "output_type": "stream",
     "text": [
      "0.990094260977281\n"
     ]
    }
   ],
   "source": [
    "print(model.rsquared_adj)"
   ]
  },
  {
   "cell_type": "code",
   "execution_count": 51,
   "id": "ac66c436",
   "metadata": {},
   "outputs": [
    {
     "data": {
      "text/plain": [
       "-9.214580011379658e+17"
      ]
     },
     "execution_count": 51,
     "metadata": {},
     "output_type": "execute_result"
    }
   ],
   "source": [
    "# R square on testing data\n",
    "regression_model.score(X_test_scaled, y_test_scaled)"
   ]
  },
  {
   "cell_type": "code",
   "execution_count": 52,
   "id": "61b1101b",
   "metadata": {},
   "outputs": [],
   "source": [
    "# concatenate X and y into a single dataframe\n",
    "data_train_scaled = pd.concat([X_train_scaled, y_train_scaled], axis=1)"
   ]
  },
  {
   "cell_type": "code",
   "execution_count": 55,
   "id": "1e9a2e39",
   "metadata": {},
   "outputs": [],
   "source": [
    "expr= 'product_wg_ton ~ num_refill_req_l3m + transport_issue_l1y + Competitor_in_mkt + retail_shop_num + distributor_num + flood_impacted + flood_proof + electric_supply + dist_from_hub + workers_num + storage_issue_reported_l3m + temp_reg_mach + wh_breakdown_l3m + govt_check_l3m + Location_type_Urban + WH_capacity_size_Mid + WH_capacity_size_Small + zone_North + zone_South + zone_West + WH_regional_zone_Zone_2 + WH_regional_zone_Zone_3 + WH_regional_zone_Zone_4 + WH_regional_zone_Zone_5 + WH_regional_zone_Zone_6 + wh_owner_type_Rented + approved_wh_govt_certificate_A + approved_wh_govt_certificate_A_positive + approved_wh_govt_certificate_B + approved_wh_govt_certificate_B_positive + approved_wh_govt_certificate_C'"
   ]
  },
  {
   "cell_type": "code",
   "execution_count": 56,
   "id": "cd5c5078",
   "metadata": {},
   "outputs": [
    {
     "data": {
      "text/plain": [
       "Intercept                                 -2.070826e-16\n",
       "num_refill_req_l3m                         3.261489e-03\n",
       "transport_issue_l1y                       -2.562468e-02\n",
       "Competitor_in_mkt                         -5.239559e-04\n",
       "retail_shop_num                           -2.347349e-04\n",
       "distributor_num                            1.081096e-03\n",
       "flood_impacted                             1.816420e-04\n",
       "flood_proof                               -1.781990e-05\n",
       "electric_supply                           -6.574169e-04\n",
       "dist_from_hub                              5.088285e-04\n",
       "workers_num                                9.919077e-04\n",
       "storage_issue_reported_l3m                 1.014767e+00\n",
       "temp_reg_mach                              2.499649e-02\n",
       "wh_breakdown_l3m                          -5.929654e-03\n",
       "govt_check_l3m                             9.308111e-04\n",
       "Location_type_Urban                       -1.001744e-03\n",
       "WH_capacity_size_Mid                      -1.916062e-04\n",
       "WH_capacity_size_Small                     1.116791e-03\n",
       "zone_North                                 4.245820e-04\n",
       "zone_South                                 5.696650e-05\n",
       "zone_West                                  1.574387e-03\n",
       "WH_regional_zone_Zone_2                    3.490118e-04\n",
       "WH_regional_zone_Zone_3                   -9.983191e-04\n",
       "WH_regional_zone_Zone_4                    2.981352e-04\n",
       "WH_regional_zone_Zone_5                   -3.502185e-04\n",
       "WH_regional_zone_Zone_6                    2.509448e-05\n",
       "wh_owner_type_Rented                       1.214867e-03\n",
       "approved_wh_govt_certificate_A            -1.594541e-01\n",
       "approved_wh_govt_certificate_A_positive   -1.481257e-01\n",
       "approved_wh_govt_certificate_B            -2.305750e-01\n",
       "approved_wh_govt_certificate_B_positive   -2.322470e-01\n",
       "approved_wh_govt_certificate_C            -1.776879e-01\n",
       "dtype: float64"
      ]
     },
     "execution_count": 56,
     "metadata": {},
     "output_type": "execute_result"
    }
   ],
   "source": [
    "import statsmodels.formula.api as smf\n",
    "lm1=smf.ols(formula = expr, data=data_train_scaled).fit()\n",
    "lm1.params"
   ]
  },
  {
   "cell_type": "code",
   "execution_count": 57,
   "id": "c32b58de",
   "metadata": {},
   "outputs": [
    {
     "name": "stdout",
     "output_type": "stream",
     "text": [
      "                            OLS Regression Results                            \n",
      "==============================================================================\n",
      "Dep. Variable:         product_wg_ton   R-squared:                       0.990\n",
      "Model:                            OLS   Adj. R-squared:                  0.990\n",
      "Method:                 Least Squares   F-statistic:                 6.247e+04\n",
      "Date:                Fri, 06 Jan 2023   Prob (F-statistic):               0.00\n",
      "Time:                        23:35:36   Log-Likelihood:                 16672.\n",
      "No. Observations:               18750   AIC:                        -3.328e+04\n",
      "Df Residuals:                   18719   BIC:                        -3.304e+04\n",
      "Df Model:                          30                                         \n",
      "Covariance Type:            nonrobust                                         \n",
      "===========================================================================================================\n",
      "                                              coef    std err          t      P>|t|      [0.025      0.975]\n",
      "-----------------------------------------------------------------------------------------------------------\n",
      "Intercept                               -2.071e-16      0.001  -2.85e-13      1.000      -0.001       0.001\n",
      "num_refill_req_l3m                          0.0033      0.001      4.288      0.000       0.002       0.005\n",
      "transport_issue_l1y                        -0.0256      0.001    -34.693      0.000      -0.027      -0.024\n",
      "Competitor_in_mkt                          -0.0005      0.001     -0.637      0.524      -0.002       0.001\n",
      "retail_shop_num                            -0.0002      0.001     -0.316      0.752      -0.002       0.001\n",
      "distributor_num                             0.0011      0.001      1.487      0.137      -0.000       0.003\n",
      "flood_impacted                              0.0002      0.001      0.243      0.808      -0.001       0.002\n",
      "flood_proof                             -1.782e-05      0.001     -0.024      0.981      -0.001       0.001\n",
      "electric_supply                            -0.0007      0.001     -0.829      0.407      -0.002       0.001\n",
      "dist_from_hub                               0.0005      0.001      0.699      0.484      -0.001       0.002\n",
      "workers_num                                 0.0010      0.001      1.270      0.204      -0.001       0.003\n",
      "storage_issue_reported_l3m                  1.0148      0.001   1219.369      0.000       1.013       1.016\n",
      "temp_reg_mach                               0.0250      0.001     29.205      0.000       0.023       0.027\n",
      "wh_breakdown_l3m                           -0.0059      0.001     -7.164      0.000      -0.008      -0.004\n",
      "govt_check_l3m                              0.0009      0.001      1.105      0.269      -0.001       0.003\n",
      "Location_type_Urban                        -0.0010      0.001     -1.371      0.170      -0.002       0.000\n",
      "WH_capacity_size_Mid                       -0.0002      0.001     -0.163      0.870      -0.002       0.002\n",
      "WH_capacity_size_Small                      0.0011      0.001      0.964      0.335      -0.001       0.003\n",
      "zone_North                                  0.0004      0.003      0.145      0.885      -0.005       0.006\n",
      "zone_South                               5.697e-05      0.003      0.021      0.983      -0.005       0.005\n",
      "zone_West                                   0.0016      0.003      0.578      0.564      -0.004       0.007\n",
      "WH_regional_zone_Zone_2                     0.0003      0.001      0.426      0.670      -0.001       0.002\n",
      "WH_regional_zone_Zone_3                    -0.0010      0.001     -1.289      0.197      -0.003       0.001\n",
      "WH_regional_zone_Zone_4                     0.0003      0.001      0.372      0.710      -0.001       0.002\n",
      "WH_regional_zone_Zone_5                    -0.0004      0.002     -0.209      0.835      -0.004       0.003\n",
      "WH_regional_zone_Zone_6                  2.509e-05      0.002      0.015      0.988      -0.003       0.003\n",
      "wh_owner_type_Rented                        0.0012      0.001      1.611      0.107      -0.000       0.003\n",
      "approved_wh_govt_certificate_A             -0.1595      0.002    -87.125      0.000      -0.163      -0.156\n",
      "approved_wh_govt_certificate_A_positive    -0.1481      0.002    -79.831      0.000      -0.152      -0.144\n",
      "approved_wh_govt_certificate_B             -0.2306      0.002   -125.561      0.000      -0.234      -0.227\n",
      "approved_wh_govt_certificate_B_positive    -0.2322      0.002   -126.281      0.000      -0.236      -0.229\n",
      "approved_wh_govt_certificate_C             -0.1777      0.002    -94.359      0.000      -0.181      -0.174\n",
      "==============================================================================\n",
      "Omnibus:                     4019.643   Durbin-Watson:                   2.000\n",
      "Prob(Omnibus):                  0.000   Jarque-Bera (JB):            19656.716\n",
      "Skew:                           0.958   Prob(JB):                         0.00\n",
      "Kurtosis:                       7.636   Cond. No.                     9.04e+15\n",
      "==============================================================================\n",
      "\n",
      "Notes:\n",
      "[1] Standard Errors assume that the covariance matrix of the errors is correctly specified.\n",
      "[2] The smallest eigenvalue is  6e-28. This might indicate that there are\n",
      "strong multicollinearity problems or that the design matrix is singular.\n"
     ]
    }
   ],
   "source": [
    "print(lm1.summary())"
   ]
  },
  {
   "cell_type": "code",
   "execution_count": 58,
   "id": "e8608706",
   "metadata": {},
   "outputs": [],
   "source": [
    "mse = np.mean((regression_model.predict(X_test_scaled)-y_test_scaled)**2)"
   ]
  },
  {
   "cell_type": "code",
   "execution_count": 59,
   "id": "f7b50c00",
   "metadata": {},
   "outputs": [
    {
     "data": {
      "text/plain": [
       "959926039.4103107"
      ]
     },
     "execution_count": 59,
     "metadata": {},
     "output_type": "execute_result"
    }
   ],
   "source": [
    "import math\n",
    "\n",
    "math.sqrt(mse)"
   ]
  },
  {
   "cell_type": "code",
   "execution_count": 60,
   "id": "edba1dc8",
   "metadata": {},
   "outputs": [],
   "source": [
    "y_pred = regression_model.predict(X_test_scaled)"
   ]
  },
  {
   "cell_type": "code",
   "execution_count": 62,
   "id": "1fff6ef1",
   "metadata": {},
   "outputs": [
    {
     "data": {
      "text/plain": [
       "<matplotlib.collections.PathCollection at 0x166edb40280>"
      ]
     },
     "execution_count": 62,
     "metadata": {},
     "output_type": "execute_result"
    },
    {
     "data": {
      "image/png": "[encoded data removed]",
      "text/plain": [
       "<Figure size 432x288 with 1 Axes>"
      ]
     },
     "metadata": {
      "needs_background": "light"
     },
     "output_type": "display_data"
    }
   ],
   "source": [
    "plt.scatter(y_test_scaled['product_wg_ton'], y_pred)"
   ]
  },
  {
   "cell_type": "code",
   "execution_count": 63,
   "id": "555b2fc2",
   "metadata": {},
   "outputs": [
    {
     "name": "stdout",
     "output_type": "stream",
     "text": [
      "(-0.0) * Intercept + (0.0) * num_refill_req_l3m + (-0.03) * transport_issue_l1y + (-0.0) * Competitor_in_mkt + (-0.0) * retail_shop_num + (0.0) * distributor_num + (0.0) * flood_impacted + (-0.0) * flood_proof + (-0.0) * electric_supply + (0.0) * dist_from_hub + (0.0) * workers_num + (1.01) * storage_issue_reported_l3m + (0.02) * temp_reg_mach + (-0.01) * wh_breakdown_l3m + (0.0) * govt_check_l3m + (-0.0) * Location_type_Urban + (-0.0) * WH_capacity_size_Mid + (0.0) * WH_capacity_size_Small + (0.0) * zone_North + (0.0) * zone_South + (0.0) * zone_West + (0.0) * WH_regional_zone_Zone_2 + (-0.0) * WH_regional_zone_Zone_3 + (0.0) * WH_regional_zone_Zone_4 + (-0.0) * WH_regional_zone_Zone_5 + (0.0) * WH_regional_zone_Zone_6 + (0.0) * wh_owner_type_Rented + (-0.16) * approved_wh_govt_certificate_A + (-0.15) * approved_wh_govt_certificate_A_positive + (-0.23) * approved_wh_govt_certificate_B + (-0.23) * approved_wh_govt_certificate_B_positive + (-0.18) * approved_wh_govt_certificate_C + "
     ]
    }
   ],
   "source": [
    "for i,j in np.array(lm1.params.reset_index()):\n",
    "    print('({}) * {} +'.format(round(j,2),i),end=' ')"
   ]
  },
  {
   "cell_type": "code",
   "execution_count": 64,
   "id": "b8fd62bd",
   "metadata": {},
   "outputs": [],
   "source": [
    "from sklearn.tree import DecisionTreeRegressor"
   ]
  },
  {
   "cell_type": "code",
   "execution_count": 65,
   "id": "fb2429ad",
   "metadata": {},
   "outputs": [],
   "source": [
    "DT_model = DecisionTreeRegressor(random_state=44)\n",
    "DT_model = DT_model.fit(X_train,y_train)"
   ]
  },
  {
   "cell_type": "code",
   "execution_count": 66,
   "id": "e2acf94d",
   "metadata": {},
   "outputs": [
    {
     "data": {
      "text/plain": [
       "1.0"
      ]
     },
     "execution_count": 66,
     "metadata": {},
     "output_type": "execute_result"
    }
   ],
   "source": [
    "DT_model.score(X_train, y_train)"
   ]
  },
  {
   "cell_type": "code",
   "execution_count": 67,
   "id": "bc83e042",
   "metadata": {},
   "outputs": [
    {
     "data": {
      "text/plain": [
       "0.9873928098673397"
      ]
     },
     "execution_count": 67,
     "metadata": {},
     "output_type": "execute_result"
    }
   ],
   "source": [
    "DT_model.score(X_test, y_test)"
   ]
  },
  {
   "cell_type": "code",
   "execution_count": 68,
   "id": "954e5127",
   "metadata": {},
   "outputs": [
    {
     "data": {
      "text/plain": [
       "0.0"
      ]
     },
     "execution_count": 68,
     "metadata": {},
     "output_type": "execute_result"
    }
   ],
   "source": [
    "#RMSE on Training data\n",
    "predicted_train= DT_model.predict(X_train)\n",
    "np.sqrt(metrics.mean_squared_error(y_train, predicted_train))"
   ]
  },
  {
   "cell_type": "code",
   "execution_count": 69,
   "id": "08bcf274",
   "metadata": {},
   "outputs": [
    {
     "data": {
      "text/plain": [
       "1291.8786657577407"
      ]
     },
     "execution_count": 69,
     "metadata": {},
     "output_type": "execute_result"
    }
   ],
   "source": [
    "#RMSE on Testing data\n",
    "predicted_test= DT_model.predict(X_test)\n",
    "np.sqrt(metrics.mean_squared_error(y_test, predicted_test))"
   ]
  },
  {
   "cell_type": "code",
   "execution_count": 70,
   "id": "93298439",
   "metadata": {},
   "outputs": [],
   "source": [
    "from sklearn.ensemble import RandomForestRegressor"
   ]
  },
  {
   "cell_type": "code",
   "execution_count": 71,
   "id": "a87009c0",
   "metadata": {},
   "outputs": [],
   "source": [
    "RFregressor = RandomForestRegressor(n_estimators = 10, random_state = 40)\n",
    "RFregressor = DT_model.fit(X_train,y_train)"
   ]
  },
  {
   "cell_type": "code",
   "execution_count": 72,
   "id": "34816ea0",
   "metadata": {},
   "outputs": [
    {
     "data": {
      "text/plain": [
       "1.0"
      ]
     },
     "execution_count": 72,
     "metadata": {},
     "output_type": "execute_result"
    }
   ],
   "source": [
    "RFregressor.score(X_train, y_train)"
   ]
  },
  {
   "cell_type": "code",
   "execution_count": 73,
   "id": "2c8a4c46",
   "metadata": {},
   "outputs": [
    {
     "data": {
      "text/plain": [
       "0.9873928098673397"
      ]
     },
     "execution_count": 73,
     "metadata": {},
     "output_type": "execute_result"
    }
   ],
   "source": [
    "RFregressor.score(X_test, y_test)"
   ]
  },
  {
   "cell_type": "code",
   "execution_count": 74,
   "id": "3d952b4d",
   "metadata": {},
   "outputs": [
    {
     "data": {
      "text/plain": [
       "0.0"
      ]
     },
     "execution_count": 74,
     "metadata": {},
     "output_type": "execute_result"
    }
   ],
   "source": [
    "#RMSE on Training data\n",
    "predicted_train= RFregressor.predict(X_train)\n",
    "np.sqrt(metrics.mean_squared_error(y_train, predicted_train))"
   ]
  },
  {
   "cell_type": "code",
   "execution_count": 75,
   "id": "cb8ebe56",
   "metadata": {},
   "outputs": [
    {
     "data": {
      "text/plain": [
       "1291.8786657577407"
      ]
     },
     "execution_count": 75,
     "metadata": {},
     "output_type": "execute_result"
    }
   ],
   "source": [
    "#RMSE on Testing data\n",
    "predicted_test= RFregressor.predict(X_test)\n",
    "np.sqrt(metrics.mean_squared_error(y_test, predicted_test))"
   ]
  },
  {
   "cell_type": "code",
   "execution_count": 76,
   "id": "0517a1e4",
   "metadata": {},
   "outputs": [],
   "source": [
    "from sklearn.svm import SVR"
   ]
  },
  {
   "cell_type": "code",
   "execution_count": 77,
   "id": "b823f8e5",
   "metadata": {},
   "outputs": [
    {
     "name": "stderr",
     "output_type": "stream",
     "text": [
      "C:\\Users\\Sumit\\anaconda3\\lib\\site-packages\\sklearn\\utils\\validation.py:1111: DataConversionWarning: A column-vector y was passed when a 1d array was expected. Please change the shape of y to (n_samples, ), for example using ravel().\n",
      "  y = column_or_1d(y, warn=True)\n"
     ]
    }
   ],
   "source": [
    "SVregressor = SVR(kernel = 'rbf')\n",
    "SVregressor = SVregressor.fit(X_train,y_train)"
   ]
  },
  {
   "cell_type": "code",
   "execution_count": 78,
   "id": "1984ece8",
   "metadata": {},
   "outputs": [
    {
     "data": {
      "text/plain": [
       "1.0217470052142907e-05"
      ]
     },
     "execution_count": 78,
     "metadata": {},
     "output_type": "execute_result"
    }
   ],
   "source": [
    "SVregressor.score(X_train, y_train)"
   ]
  },
  {
   "cell_type": "code",
   "execution_count": 79,
   "id": "a4027d0c",
   "metadata": {},
   "outputs": [
    {
     "data": {
      "text/plain": [
       "-0.00011261708434284756"
      ]
     },
     "execution_count": 79,
     "metadata": {},
     "output_type": "execute_result"
    }
   ],
   "source": [
    "SVregressor.score(X_test, y_test)"
   ]
  },
  {
   "cell_type": "code",
   "execution_count": 80,
   "id": "58ff0109",
   "metadata": {},
   "outputs": [
    {
     "data": {
      "text/plain": [
       "11640.899089595798"
      ]
     },
     "execution_count": 80,
     "metadata": {},
     "output_type": "execute_result"
    }
   ],
   "source": [
    "#RMSE on Training data\n",
    "predicted_train= SVregressor.predict(X_train)\n",
    "np.sqrt(metrics.mean_squared_error(y_train, predicted_train))"
   ]
  },
  {
   "cell_type": "code",
   "execution_count": 81,
   "id": "fd164c02",
   "metadata": {},
   "outputs": [
    {
     "data": {
      "text/plain": [
       "11506.335371358984"
      ]
     },
     "execution_count": 81,
     "metadata": {},
     "output_type": "execute_result"
    }
   ],
   "source": [
    "#RMSE on Testing data\n",
    "predicted_test= SVregressor.predict(X_test)\n",
    "np.sqrt(metrics.mean_squared_error(y_test, predicted_test))"
   ]
  },
  {
   "cell_type": "code",
   "execution_count": 82,
   "id": "eab6e7d3",
   "metadata": {},
   "outputs": [],
   "source": [
    "from sklearn import datasets\n",
    "from sklearn.model_selection import train_test_split\n",
    "from sklearn.model_selection import GridSearchCV\n",
    "from sklearn.ensemble import GradientBoostingRegressor"
   ]
  },
  {
   "cell_type": "code",
   "execution_count": 83,
   "id": "ad969d31",
   "metadata": {},
   "outputs": [],
   "source": [
    "GBR = GradientBoostingRegressor()\n",
    "parameters = {'learning_rate': [0.01,0.02,0.03,0.04],\n",
    "                  'subsample'    : [0.9, 0.5, 0.2, 0.1],\n",
    "                  'n_estimators' : [100,500,1000, 1500],\n",
    "                  'max_depth'    : [4,6,8,10]\n",
    "                 }"
   ]
  },
  {
   "cell_type": "code",
   "execution_count": 84,
   "id": "03b4d24c",
   "metadata": {},
   "outputs": [
    {
     "name": "stderr",
     "output_type": "stream",
     "text": [
      "C:\\Users\\Sumit\\anaconda3\\lib\\site-packages\\sklearn\\ensemble\\_gb.py:570: DataConversionWarning: A column-vector y was passed when a 1d array was expected. Please change the shape of y to (n_samples, ), for example using ravel().\n",
      "  y = column_or_1d(y, warn=True)\n"
     ]
    },
    {
     "data": {
      "text/html": [
       "<style>#sk-container-id-2 {color: black;background-color: white;}#sk-container-id-2 pre{padding: 0;}#sk-container-id-2 div.sk-toggleable {background-color: white;}#sk-container-id-2 label.sk-toggleable__label {cursor: pointer;display: block;width: 100%;margin-bottom: 0;padding: 0.3em;box-sizing: border-box;text-align: center;}#sk-container-id-2 label.sk-toggleable__label-arrow:before {content: \"▸\";float: left;margin-right: 0.25em;color: #696969;}#sk-container-id-2 label.sk-toggleable__label-arrow:hover:before {color: black;}#sk-container-id-2 div.sk-estimator:hover label.sk-toggleable__label-arrow:before {color: black;}#sk-container-id-2 div.sk-toggleable__content {max-height: 0;max-width: 0;overflow: hidden;text-align: left;background-color: #f0f8ff;}#sk-container-id-2 div.sk-toggleable__content pre {margin: 0.2em;color: black;border-radius: 0.25em;background-color: #f0f8ff;}#sk-container-id-2 input.sk-toggleable__control:checked~div.sk-toggleable__content {max-height: 200px;max-width: 100%;overflow: auto;}#sk-container-id-2 input.sk-toggleable__control:checked~label.sk-toggleable__label-arrow:before {content: \"▾\";}#sk-container-id-2 div.sk-estimator input.sk-toggleable__control:checked~label.sk-toggleable__label {background-color: #d4ebff;}#sk-container-id-2 div.sk-label input.sk-toggleable__control:checked~label.sk-toggleable__label {background-color: #d4ebff;}#sk-container-id-2 input.sk-hidden--visually {border: 0;clip: rect(1px 1px 1px 1px);clip: rect(1px, 1px, 1px, 1px);height: 1px;margin: -1px;overflow: hidden;padding: 0;position: absolute;width: 1px;}#sk-container-id-2 div.sk-estimator {font-family: monospace;background-color: #f0f8ff;border: 1px dotted black;border-radius: 0.25em;box-sizing: border-box;margin-bottom: 0.5em;}#sk-container-id-2 div.sk-estimator:hover {background-color: #d4ebff;}#sk-container-id-2 div.sk-parallel-item::after {content: \"\";width: 100%;border-bottom: 1px solid gray;flex-grow: 1;}#sk-container-id-2 div.sk-label:hover label.sk-toggleable__label {background-color: #d4ebff;}#sk-container-id-2 div.sk-serial::before {content: \"\";position: absolute;border-left: 1px solid gray;box-sizing: border-box;top: 0;bottom: 0;left: 50%;z-index: 0;}#sk-container-id-2 div.sk-serial {display: flex;flex-direction: column;align-items: center;background-color: white;padding-right: 0.2em;padding-left: 0.2em;position: relative;}#sk-container-id-2 div.sk-item {position: relative;z-index: 1;}#sk-container-id-2 div.sk-parallel {display: flex;align-items: stretch;justify-content: center;background-color: white;position: relative;}#sk-container-id-2 div.sk-item::before, #sk-container-id-2 div.sk-parallel-item::before {content: \"\";position: absolute;border-left: 1px solid gray;box-sizing: border-box;top: 0;bottom: 0;left: 50%;z-index: -1;}#sk-container-id-2 div.sk-parallel-item {display: flex;flex-direction: column;z-index: 1;position: relative;background-color: white;}#sk-container-id-2 div.sk-parallel-item:first-child::after {align-self: flex-end;width: 50%;}#sk-container-id-2 div.sk-parallel-item:last-child::after {align-self: flex-start;width: 50%;}#sk-container-id-2 div.sk-parallel-item:only-child::after {width: 0;}#sk-container-id-2 div.sk-dashed-wrapped {border: 1px dashed gray;margin: 0 0.4em 0.5em 0.4em;box-sizing: border-box;padding-bottom: 0.4em;background-color: white;}#sk-container-id-2 div.sk-label label {font-family: monospace;font-weight: bold;display: inline-block;line-height: 1.2em;}#sk-container-id-2 div.sk-label-container {text-align: center;}#sk-container-id-2 div.sk-container {/* jupyter's `normalize.less` sets `[hidden] { display: none; }` but bootstrap.min.css set `[hidden] { display: none !important; }` so we also need the `!important` here to be able to override the default hidden behavior on the sphinx rendered scikit-learn.org. See: https://github.com/scikit-learn/scikit-learn/issues/21755 */display: inline-block !important;position: relative;}#sk-container-id-2 div.sk-text-repr-fallback {display: none;}</style><div id=\"sk-container-id-2\" class=\"sk-top-container\"><div class=\"sk-text-repr-fallback\"><pre>GridSearchCV(cv=2, estimator=GradientBoostingRegressor(), n_jobs=-1,\n",
       "             param_grid={&#x27;learning_rate&#x27;: [0.01, 0.02, 0.03, 0.04],\n",
       "                         &#x27;max_depth&#x27;: [4, 6, 8, 10],\n",
       "                         &#x27;n_estimators&#x27;: [100, 500, 1000, 1500],\n",
       "                         &#x27;subsample&#x27;: [0.9, 0.5, 0.2, 0.1]})</pre><b>In a Jupyter environment, please rerun this cell to show the HTML representation or trust the notebook. <br />On GitHub, the HTML representation is unable to render, please try loading this page with nbviewer.org.</b></div><div class=\"sk-container\" hidden><div class=\"sk-item sk-dashed-wrapped\"><div class=\"sk-label-container\"><div class=\"sk-label sk-toggleable\"><input class=\"sk-toggleable__control sk-hidden--visually\" id=\"sk-estimator-id-2\" type=\"checkbox\" ><label for=\"sk-estimator-id-2\" class=\"sk-toggleable__label sk-toggleable__label-arrow\">GridSearchCV</label><div class=\"sk-toggleable__content\"><pre>GridSearchCV(cv=2, estimator=GradientBoostingRegressor(), n_jobs=-1,\n",
       "             param_grid={&#x27;learning_rate&#x27;: [0.01, 0.02, 0.03, 0.04],\n",
       "                         &#x27;max_depth&#x27;: [4, 6, 8, 10],\n",
       "                         &#x27;n_estimators&#x27;: [100, 500, 1000, 1500],\n",
       "                         &#x27;subsample&#x27;: [0.9, 0.5, 0.2, 0.1]})</pre></div></div></div><div class=\"sk-parallel\"><div class=\"sk-parallel-item\"><div class=\"sk-item\"><div class=\"sk-label-container\"><div class=\"sk-label sk-toggleable\"><input class=\"sk-toggleable__control sk-hidden--visually\" id=\"sk-estimator-id-3\" type=\"checkbox\" ><label for=\"sk-estimator-id-3\" class=\"sk-toggleable__label sk-toggleable__label-arrow\">estimator: GradientBoostingRegressor</label><div class=\"sk-toggleable__content\"><pre>GradientBoostingRegressor()</pre></div></div></div><div class=\"sk-serial\"><div class=\"sk-item\"><div class=\"sk-estimator sk-toggleable\"><input class=\"sk-toggleable__control sk-hidden--visually\" id=\"sk-estimator-id-4\" type=\"checkbox\" ><label for=\"sk-estimator-id-4\" class=\"sk-toggleable__label sk-toggleable__label-arrow\">GradientBoostingRegressor</label><div class=\"sk-toggleable__content\"><pre>GradientBoostingRegressor()</pre></div></div></div></div></div></div></div></div></div></div>"
      ],
      "text/plain": [
       "GridSearchCV(cv=2, estimator=GradientBoostingRegressor(), n_jobs=-1,\n",
       "             param_grid={'learning_rate': [0.01, 0.02, 0.03, 0.04],\n",
       "                         'max_depth': [4, 6, 8, 10],\n",
       "                         'n_estimators': [100, 500, 1000, 1500],\n",
       "                         'subsample': [0.9, 0.5, 0.2, 0.1]})"
      ]
     },
     "execution_count": 84,
     "metadata": {},
     "output_type": "execute_result"
    }
   ],
   "source": [
    "grid_GBR = GridSearchCV(estimator=GBR, param_grid = parameters, cv = 2, n_jobs=-1)\n",
    "grid_GBR.fit(X_train, y_train)"
   ]
  },
  {
   "cell_type": "code",
   "execution_count": 85,
   "id": "47b5b9dc",
   "metadata": {},
   "outputs": [
    {
     "name": "stdout",
     "output_type": "stream",
     "text": [
      " Results from Grid Search \n",
      "\n",
      "\n",
      " The best estimator across ALL searched params:\n",
      " GradientBoostingRegressor(learning_rate=0.01, max_depth=4, n_estimators=1000,\n",
      "                          subsample=0.9)\n",
      "\n",
      " The best score across ALL searched params:\n",
      " 0.993436988103666\n",
      "\n",
      " The best parameters across ALL searched params:\n",
      " {'learning_rate': 0.01, 'max_depth': 4, 'n_estimators': 1000, 'subsample': 0.9}\n"
     ]
    }
   ],
   "source": [
    "print(\" Results from Grid Search \" )\n",
    "print()\n",
    "print(\"\\n The best estimator across ALL searched params:\\n\",\n",
    "          grid_GBR.best_estimator_)\n",
    "print(\"\\n The best score across ALL searched params:\\n\",\n",
    "          grid_GBR.best_score_)\n",
    "print(\"\\n The best parameters across ALL searched params:\\n\",\n",
    "          grid_GBR.best_params_)"
   ]
  },
  {
   "cell_type": "code",
   "execution_count": 86,
   "id": "1c617e0d",
   "metadata": {},
   "outputs": [
    {
     "data": {
      "text/plain": [
       "903.812218573716"
      ]
     },
     "execution_count": 86,
     "metadata": {},
     "output_type": "execute_result"
    }
   ],
   "source": [
    "#RMSE on Training data\n",
    "predicted_train= grid_GBR.predict(X_train)\n",
    "np.sqrt(metrics.mean_squared_error(y_train, predicted_train))"
   ]
  },
  {
   "cell_type": "code",
   "execution_count": 87,
   "id": "18ed328d",
   "metadata": {},
   "outputs": [
    {
     "data": {
      "text/plain": [
       "0.9939719210728387"
      ]
     },
     "execution_count": 87,
     "metadata": {},
     "output_type": "execute_result"
    }
   ],
   "source": [
    "grid_GBR.score(X_train,y_train)"
   ]
  },
  {
   "cell_type": "code",
   "execution_count": 88,
   "id": "11a5fecf",
   "metadata": {},
   "outputs": [
    {
     "data": {
      "text/plain": [
       "0.9941026666620066"
      ]
     },
     "execution_count": 88,
     "metadata": {},
     "output_type": "execute_result"
    }
   ],
   "source": [
    "grid_GBR.score(X_test,y_test)"
   ]
  },
  {
   "cell_type": "code",
   "execution_count": null,
   "id": "4f1ef592",
   "metadata": {},
   "outputs": [],
   "source": []
  }
 ],
 "metadata": {
  "kernelspec": {
   "display_name": "Python 3 (ipykernel)",
   "language": "python",
   "name": "python3"
  },
  "language_info": {
   "codemirror_mode": {
    "name": "ipython",
    "version": 3
   },
   "file_extension": ".py",
   "mimetype": "text/x-python",
   "name": "python",
   "nbconvert_exporter": "python",
   "pygments_lexer": "ipython3",
   "version": "3.9.7"
  }
 },
 "nbformat": 4,
 "nbformat_minor": 5
}
